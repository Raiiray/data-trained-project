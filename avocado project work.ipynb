{
 "cells": [
  {
   "cell_type": "markdown",
   "id": "a307ecf5",
   "metadata": {},
   "source": [
    "# Avacado Project\n",
    "\n",
    "Avocado is a fruit consumed by people heavily in the United States. \n",
    "\n",
    "Content:\n",
    " \n",
    "\n",
    "The table below represents weekly 2018 retail scan data for National retail volume (units) and price. Retail scan data comes directly from retailers’ cash registers based on actual retail sales of Hass avocados. \n",
    "\n",
    "Starting in 2013, the table below reflects an expanded, multi-outlet retail data set. Multi-outlet reporting includes an aggregation of the following channels: grocery, mass, club, drug, dollar and military. The Average Price (of avocados) in the table reflects a per unit (per avocado) cost, even when multiple units (avocados) are sold in bags. \n",
    "\n",
    "The Product Lookup codes (PLU’s) in the table are only for Hass avocados. Other varieties of avocados (e.g. greenskins) are not included in this table."
   ]
  },
  {
   "cell_type": "code",
   "execution_count": 2,
   "id": "cd43f1f3",
   "metadata": {},
   "outputs": [],
   "source": [
    "import pandas as pd\n",
    "import numpy as np\n",
    "import matplotlib.pyplot as plt\n",
    "import seaborn as sns\n",
    "import warnings\n",
    "warnings.filterwarnings(\"ignore\")"
   ]
  },
  {
   "cell_type": "code",
   "execution_count": 3,
   "id": "f37bb8a3",
   "metadata": {},
   "outputs": [
    {
     "data": {
      "text/html": [
       "<div>\n",
       "<style scoped>\n",
       "    .dataframe tbody tr th:only-of-type {\n",
       "        vertical-align: middle;\n",
       "    }\n",
       "\n",
       "    .dataframe tbody tr th {\n",
       "        vertical-align: top;\n",
       "    }\n",
       "\n",
       "    .dataframe thead th {\n",
       "        text-align: right;\n",
       "    }\n",
       "</style>\n",
       "<table border=\"1\" class=\"dataframe\">\n",
       "  <thead>\n",
       "    <tr style=\"text-align: right;\">\n",
       "      <th></th>\n",
       "      <th>Unnamed: 0</th>\n",
       "      <th>Date</th>\n",
       "      <th>AveragePrice</th>\n",
       "      <th>Total Volume</th>\n",
       "      <th>4046</th>\n",
       "      <th>4225</th>\n",
       "      <th>4770</th>\n",
       "      <th>Total Bags</th>\n",
       "      <th>Small Bags</th>\n",
       "      <th>Large Bags</th>\n",
       "      <th>XLarge Bags</th>\n",
       "      <th>type</th>\n",
       "      <th>year</th>\n",
       "      <th>region</th>\n",
       "    </tr>\n",
       "  </thead>\n",
       "  <tbody>\n",
       "    <tr>\n",
       "      <th>2069</th>\n",
       "      <td>41</td>\n",
       "      <td>15-03-2015</td>\n",
       "      <td>1.12</td>\n",
       "      <td>119124.45</td>\n",
       "      <td>47388.04</td>\n",
       "      <td>43327.94</td>\n",
       "      <td>73.88</td>\n",
       "      <td>28334.59</td>\n",
       "      <td>27985.70</td>\n",
       "      <td>348.89</td>\n",
       "      <td>0.00</td>\n",
       "      <td>conventional</td>\n",
       "      <td>2015</td>\n",
       "      <td>Roanoke</td>\n",
       "    </tr>\n",
       "    <tr>\n",
       "      <th>11185</th>\n",
       "      <td>31</td>\n",
       "      <td>24-05-2015</td>\n",
       "      <td>0.89</td>\n",
       "      <td>22034.63</td>\n",
       "      <td>191.26</td>\n",
       "      <td>15349.07</td>\n",
       "      <td>0.00</td>\n",
       "      <td>6494.30</td>\n",
       "      <td>1124.50</td>\n",
       "      <td>5369.80</td>\n",
       "      <td>0.00</td>\n",
       "      <td>organic</td>\n",
       "      <td>2015</td>\n",
       "      <td>Roanoke</td>\n",
       "    </tr>\n",
       "    <tr>\n",
       "      <th>13359</th>\n",
       "      <td>22</td>\n",
       "      <td>24-07-2016</td>\n",
       "      <td>1.41</td>\n",
       "      <td>4106.49</td>\n",
       "      <td>588.36</td>\n",
       "      <td>0.00</td>\n",
       "      <td>0.00</td>\n",
       "      <td>3518.13</td>\n",
       "      <td>3458.13</td>\n",
       "      <td>60.00</td>\n",
       "      <td>0.00</td>\n",
       "      <td>organic</td>\n",
       "      <td>2016</td>\n",
       "      <td>NewOrleansMobile</td>\n",
       "    </tr>\n",
       "    <tr>\n",
       "      <th>2107</th>\n",
       "      <td>27</td>\n",
       "      <td>21-06-2015</td>\n",
       "      <td>1.27</td>\n",
       "      <td>422723.91</td>\n",
       "      <td>137206.11</td>\n",
       "      <td>215068.66</td>\n",
       "      <td>14700.40</td>\n",
       "      <td>55748.74</td>\n",
       "      <td>55744.30</td>\n",
       "      <td>4.44</td>\n",
       "      <td>0.00</td>\n",
       "      <td>conventional</td>\n",
       "      <td>2015</td>\n",
       "      <td>Sacramento</td>\n",
       "    </tr>\n",
       "    <tr>\n",
       "      <th>6982</th>\n",
       "      <td>41</td>\n",
       "      <td>19-03-2017</td>\n",
       "      <td>1.35</td>\n",
       "      <td>2933076.38</td>\n",
       "      <td>607103.98</td>\n",
       "      <td>1325162.91</td>\n",
       "      <td>30753.50</td>\n",
       "      <td>970055.99</td>\n",
       "      <td>867587.43</td>\n",
       "      <td>98619.63</td>\n",
       "      <td>3848.93</td>\n",
       "      <td>conventional</td>\n",
       "      <td>2017</td>\n",
       "      <td>Midsouth</td>\n",
       "    </tr>\n",
       "    <tr>\n",
       "      <th>9894</th>\n",
       "      <td>40</td>\n",
       "      <td>22-03-2015</td>\n",
       "      <td>2.01</td>\n",
       "      <td>683.76</td>\n",
       "      <td>20.54</td>\n",
       "      <td>659.89</td>\n",
       "      <td>0.00</td>\n",
       "      <td>3.33</td>\n",
       "      <td>3.33</td>\n",
       "      <td>0.00</td>\n",
       "      <td>0.00</td>\n",
       "      <td>organic</td>\n",
       "      <td>2015</td>\n",
       "      <td>GrandRapids</td>\n",
       "    </tr>\n",
       "    <tr>\n",
       "      <th>263</th>\n",
       "      <td>3</td>\n",
       "      <td>06-12-2015</td>\n",
       "      <td>1.23</td>\n",
       "      <td>108457.82</td>\n",
       "      <td>1737.71</td>\n",
       "      <td>58197.34</td>\n",
       "      <td>167.12</td>\n",
       "      <td>48355.65</td>\n",
       "      <td>48355.65</td>\n",
       "      <td>0.00</td>\n",
       "      <td>0.00</td>\n",
       "      <td>conventional</td>\n",
       "      <td>2015</td>\n",
       "      <td>BuffaloRochester</td>\n",
       "    </tr>\n",
       "    <tr>\n",
       "      <th>6374</th>\n",
       "      <td>16</td>\n",
       "      <td>10-09-2017</td>\n",
       "      <td>1.86</td>\n",
       "      <td>111733.79</td>\n",
       "      <td>2360.30</td>\n",
       "      <td>46227.08</td>\n",
       "      <td>23127.70</td>\n",
       "      <td>40018.71</td>\n",
       "      <td>29053.60</td>\n",
       "      <td>3726.39</td>\n",
       "      <td>7238.72</td>\n",
       "      <td>conventional</td>\n",
       "      <td>2017</td>\n",
       "      <td>GrandRapids</td>\n",
       "    </tr>\n",
       "    <tr>\n",
       "      <th>8594</th>\n",
       "      <td>8</td>\n",
       "      <td>28-01-2018</td>\n",
       "      <td>0.92</td>\n",
       "      <td>281913.49</td>\n",
       "      <td>78131.98</td>\n",
       "      <td>27858.19</td>\n",
       "      <td>11786.66</td>\n",
       "      <td>164136.66</td>\n",
       "      <td>155062.73</td>\n",
       "      <td>9071.23</td>\n",
       "      <td>2.70</td>\n",
       "      <td>conventional</td>\n",
       "      <td>2018</td>\n",
       "      <td>CincinnatiDayton</td>\n",
       "    </tr>\n",
       "    <tr>\n",
       "      <th>8191</th>\n",
       "      <td>31</td>\n",
       "      <td>28-05-2017</td>\n",
       "      <td>1.23</td>\n",
       "      <td>220314.55</td>\n",
       "      <td>79848.31</td>\n",
       "      <td>14664.64</td>\n",
       "      <td>490.82</td>\n",
       "      <td>125310.78</td>\n",
       "      <td>102547.24</td>\n",
       "      <td>17838.96</td>\n",
       "      <td>4924.58</td>\n",
       "      <td>conventional</td>\n",
       "      <td>2017</td>\n",
       "      <td>StLouis</td>\n",
       "    </tr>\n",
       "  </tbody>\n",
       "</table>\n",
       "</div>"
      ],
      "text/plain": [
       "       Unnamed: 0        Date  AveragePrice  Total Volume       4046  \\\n",
       "2069           41  15-03-2015          1.12     119124.45   47388.04   \n",
       "11185          31  24-05-2015          0.89      22034.63     191.26   \n",
       "13359          22  24-07-2016          1.41       4106.49     588.36   \n",
       "2107           27  21-06-2015          1.27     422723.91  137206.11   \n",
       "6982           41  19-03-2017          1.35    2933076.38  607103.98   \n",
       "9894           40  22-03-2015          2.01        683.76      20.54   \n",
       "263             3  06-12-2015          1.23     108457.82    1737.71   \n",
       "6374           16  10-09-2017          1.86     111733.79    2360.30   \n",
       "8594            8  28-01-2018          0.92     281913.49   78131.98   \n",
       "8191           31  28-05-2017          1.23     220314.55   79848.31   \n",
       "\n",
       "             4225      4770  Total Bags  Small Bags  Large Bags  XLarge Bags  \\\n",
       "2069     43327.94     73.88    28334.59    27985.70      348.89         0.00   \n",
       "11185    15349.07      0.00     6494.30     1124.50     5369.80         0.00   \n",
       "13359        0.00      0.00     3518.13     3458.13       60.00         0.00   \n",
       "2107    215068.66  14700.40    55748.74    55744.30        4.44         0.00   \n",
       "6982   1325162.91  30753.50   970055.99   867587.43    98619.63      3848.93   \n",
       "9894       659.89      0.00        3.33        3.33        0.00         0.00   \n",
       "263      58197.34    167.12    48355.65    48355.65        0.00         0.00   \n",
       "6374     46227.08  23127.70    40018.71    29053.60     3726.39      7238.72   \n",
       "8594     27858.19  11786.66   164136.66   155062.73     9071.23         2.70   \n",
       "8191     14664.64    490.82   125310.78   102547.24    17838.96      4924.58   \n",
       "\n",
       "               type  year            region  \n",
       "2069   conventional  2015           Roanoke  \n",
       "11185       organic  2015           Roanoke  \n",
       "13359       organic  2016  NewOrleansMobile  \n",
       "2107   conventional  2015        Sacramento  \n",
       "6982   conventional  2017          Midsouth  \n",
       "9894        organic  2015       GrandRapids  \n",
       "263    conventional  2015  BuffaloRochester  \n",
       "6374   conventional  2017       GrandRapids  \n",
       "8594   conventional  2018  CincinnatiDayton  \n",
       "8191   conventional  2017           StLouis  "
      ]
     },
     "execution_count": 3,
     "metadata": {},
     "output_type": "execute_result"
    }
   ],
   "source": [
    "df=pd.read_csv(\"avocado.csv\")\n",
    "df.sample(10)"
   ]
  },
  {
   "cell_type": "code",
   "execution_count": 4,
   "id": "0787bcf6",
   "metadata": {},
   "outputs": [
    {
     "data": {
      "text/plain": [
       "(18249, 14)"
      ]
     },
     "execution_count": 4,
     "metadata": {},
     "output_type": "execute_result"
    }
   ],
   "source": [
    "df.shape"
   ]
  },
  {
   "cell_type": "markdown",
   "id": "36108b75",
   "metadata": {},
   "source": [
    "there are total 18249 rows and 14 columns in this data set .\n",
    "\n",
    "input features :\n",
    "\n",
    "\n",
    "Date - The date of the observation\n",
    "\n",
    "AveragePrice - the average price of a single avocado\n",
    "\n",
    "type - conventional or organic\n",
    "\n",
    "year - the year\n",
    "\n",
    "Region - the city or region of the observation\n",
    "\n",
    "Total Volume - Total number of avocados sold\n",
    "\n",
    "4046 - Total number of avocados with PLU 4046 sold\n",
    "\n",
    "4225 - Total number of avocados with PLU 4225 sold\n",
    "\n",
    "4770 - Total number of avocados with PLU 4770 sold\n",
    "\n",
    "output feature :\n",
    "\n",
    "The dataset can be seen in two angles to find the region and find the average price .so in first case the output feature is region and in the second case the output feature is avarage price."
   ]
  },
  {
   "cell_type": "code",
   "execution_count": 5,
   "id": "6b4fdeac",
   "metadata": {},
   "outputs": [
    {
     "name": "stdout",
     "output_type": "stream",
     "text": [
      "<class 'pandas.core.frame.DataFrame'>\n",
      "RangeIndex: 18249 entries, 0 to 18248\n",
      "Data columns (total 14 columns):\n",
      " #   Column        Non-Null Count  Dtype  \n",
      "---  ------        --------------  -----  \n",
      " 0   Unnamed: 0    18249 non-null  int64  \n",
      " 1   Date          18249 non-null  object \n",
      " 2   AveragePrice  18249 non-null  float64\n",
      " 3   Total Volume  18249 non-null  float64\n",
      " 4   4046          18249 non-null  float64\n",
      " 5   4225          18249 non-null  float64\n",
      " 6   4770          18249 non-null  float64\n",
      " 7   Total Bags    18249 non-null  float64\n",
      " 8   Small Bags    18249 non-null  float64\n",
      " 9   Large Bags    18249 non-null  float64\n",
      " 10  XLarge Bags   18249 non-null  float64\n",
      " 11  type          18249 non-null  object \n",
      " 12  year          18249 non-null  int64  \n",
      " 13  region        18249 non-null  object \n",
      "dtypes: float64(9), int64(2), object(3)\n",
      "memory usage: 1.9+ MB\n"
     ]
    }
   ],
   "source": [
    "df.info()"
   ]
  },
  {
   "cell_type": "markdown",
   "id": "9076f121",
   "metadata": {},
   "source": [
    "from the above information we can see that there are two catagorical features ( region and date) and rest are numerical features."
   ]
  },
  {
   "cell_type": "code",
   "execution_count": 6,
   "id": "2d129695",
   "metadata": {},
   "outputs": [
    {
     "data": {
      "text/plain": [
       "<AxesSubplot:>"
      ]
     },
     "execution_count": 6,
     "metadata": {},
     "output_type": "execute_result"
    },
    {
     "data": {
      "image/png": "[encoded data removed]",
      "text/plain": [
       "<Figure size 432x288 with 2 Axes>"
      ]
     },
     "metadata": {
      "needs_background": "light"
     },
     "output_type": "display_data"
    }
   ],
   "source": [
    "sns.heatmap(df.isnull())"
   ]
  },
  {
   "cell_type": "markdown",
   "id": "88ec8819",
   "metadata": {},
   "source": [
    "here we can see that there is no missing values is the data set"
   ]
  },
  {
   "cell_type": "code",
   "execution_count": 7,
   "id": "876d5977",
   "metadata": {},
   "outputs": [
    {
     "data": {
      "text/html": [
       "<div>\n",
       "<style scoped>\n",
       "    .dataframe tbody tr th:only-of-type {\n",
       "        vertical-align: middle;\n",
       "    }\n",
       "\n",
       "    .dataframe tbody tr th {\n",
       "        vertical-align: top;\n",
       "    }\n",
       "\n",
       "    .dataframe thead th {\n",
       "        text-align: right;\n",
       "    }\n",
       "</style>\n",
       "<table border=\"1\" class=\"dataframe\">\n",
       "  <thead>\n",
       "    <tr style=\"text-align: right;\">\n",
       "      <th></th>\n",
       "      <th>Unnamed: 0</th>\n",
       "      <th>AveragePrice</th>\n",
       "      <th>Total Volume</th>\n",
       "      <th>4046</th>\n",
       "      <th>4225</th>\n",
       "      <th>4770</th>\n",
       "      <th>Total Bags</th>\n",
       "      <th>Small Bags</th>\n",
       "      <th>Large Bags</th>\n",
       "      <th>XLarge Bags</th>\n",
       "      <th>year</th>\n",
       "    </tr>\n",
       "  </thead>\n",
       "  <tbody>\n",
       "    <tr>\n",
       "      <th>count</th>\n",
       "      <td>18249.000000</td>\n",
       "      <td>18249.000000</td>\n",
       "      <td>1.824900e+04</td>\n",
       "      <td>1.824900e+04</td>\n",
       "      <td>1.824900e+04</td>\n",
       "      <td>1.824900e+04</td>\n",
       "      <td>1.824900e+04</td>\n",
       "      <td>1.824900e+04</td>\n",
       "      <td>1.824900e+04</td>\n",
       "      <td>18249.000000</td>\n",
       "      <td>18249.000000</td>\n",
       "    </tr>\n",
       "    <tr>\n",
       "      <th>mean</th>\n",
       "      <td>24.232232</td>\n",
       "      <td>1.405978</td>\n",
       "      <td>8.506440e+05</td>\n",
       "      <td>2.930084e+05</td>\n",
       "      <td>2.951546e+05</td>\n",
       "      <td>2.283974e+04</td>\n",
       "      <td>2.396392e+05</td>\n",
       "      <td>1.821947e+05</td>\n",
       "      <td>5.433809e+04</td>\n",
       "      <td>3106.426507</td>\n",
       "      <td>2016.147899</td>\n",
       "    </tr>\n",
       "    <tr>\n",
       "      <th>std</th>\n",
       "      <td>15.481045</td>\n",
       "      <td>0.402677</td>\n",
       "      <td>3.453545e+06</td>\n",
       "      <td>1.264989e+06</td>\n",
       "      <td>1.204120e+06</td>\n",
       "      <td>1.074641e+05</td>\n",
       "      <td>9.862424e+05</td>\n",
       "      <td>7.461785e+05</td>\n",
       "      <td>2.439660e+05</td>\n",
       "      <td>17692.894652</td>\n",
       "      <td>0.939938</td>\n",
       "    </tr>\n",
       "    <tr>\n",
       "      <th>min</th>\n",
       "      <td>0.000000</td>\n",
       "      <td>0.440000</td>\n",
       "      <td>8.456000e+01</td>\n",
       "      <td>0.000000e+00</td>\n",
       "      <td>0.000000e+00</td>\n",
       "      <td>0.000000e+00</td>\n",
       "      <td>0.000000e+00</td>\n",
       "      <td>0.000000e+00</td>\n",
       "      <td>0.000000e+00</td>\n",
       "      <td>0.000000</td>\n",
       "      <td>2015.000000</td>\n",
       "    </tr>\n",
       "    <tr>\n",
       "      <th>25%</th>\n",
       "      <td>10.000000</td>\n",
       "      <td>1.100000</td>\n",
       "      <td>1.083858e+04</td>\n",
       "      <td>8.540700e+02</td>\n",
       "      <td>3.008780e+03</td>\n",
       "      <td>0.000000e+00</td>\n",
       "      <td>5.088640e+03</td>\n",
       "      <td>2.849420e+03</td>\n",
       "      <td>1.274700e+02</td>\n",
       "      <td>0.000000</td>\n",
       "      <td>2015.000000</td>\n",
       "    </tr>\n",
       "    <tr>\n",
       "      <th>50%</th>\n",
       "      <td>24.000000</td>\n",
       "      <td>1.370000</td>\n",
       "      <td>1.073768e+05</td>\n",
       "      <td>8.645300e+03</td>\n",
       "      <td>2.906102e+04</td>\n",
       "      <td>1.849900e+02</td>\n",
       "      <td>3.974383e+04</td>\n",
       "      <td>2.636282e+04</td>\n",
       "      <td>2.647710e+03</td>\n",
       "      <td>0.000000</td>\n",
       "      <td>2016.000000</td>\n",
       "    </tr>\n",
       "    <tr>\n",
       "      <th>75%</th>\n",
       "      <td>38.000000</td>\n",
       "      <td>1.660000</td>\n",
       "      <td>4.329623e+05</td>\n",
       "      <td>1.110202e+05</td>\n",
       "      <td>1.502069e+05</td>\n",
       "      <td>6.243420e+03</td>\n",
       "      <td>1.107834e+05</td>\n",
       "      <td>8.333767e+04</td>\n",
       "      <td>2.202925e+04</td>\n",
       "      <td>132.500000</td>\n",
       "      <td>2017.000000</td>\n",
       "    </tr>\n",
       "    <tr>\n",
       "      <th>max</th>\n",
       "      <td>52.000000</td>\n",
       "      <td>3.250000</td>\n",
       "      <td>6.250565e+07</td>\n",
       "      <td>2.274362e+07</td>\n",
       "      <td>2.047057e+07</td>\n",
       "      <td>2.546439e+06</td>\n",
       "      <td>1.937313e+07</td>\n",
       "      <td>1.338459e+07</td>\n",
       "      <td>5.719097e+06</td>\n",
       "      <td>551693.650000</td>\n",
       "      <td>2018.000000</td>\n",
       "    </tr>\n",
       "  </tbody>\n",
       "</table>\n",
       "</div>"
      ],
      "text/plain": [
       "         Unnamed: 0  AveragePrice  Total Volume          4046          4225  \\\n",
       "count  18249.000000  18249.000000  1.824900e+04  1.824900e+04  1.824900e+04   \n",
       "mean      24.232232      1.405978  8.506440e+05  2.930084e+05  2.951546e+05   \n",
       "std       15.481045      0.402677  3.453545e+06  1.264989e+06  1.204120e+06   \n",
       "min        0.000000      0.440000  8.456000e+01  0.000000e+00  0.000000e+00   \n",
       "25%       10.000000      1.100000  1.083858e+04  8.540700e+02  3.008780e+03   \n",
       "50%       24.000000      1.370000  1.073768e+05  8.645300e+03  2.906102e+04   \n",
       "75%       38.000000      1.660000  4.329623e+05  1.110202e+05  1.502069e+05   \n",
       "max       52.000000      3.250000  6.250565e+07  2.274362e+07  2.047057e+07   \n",
       "\n",
       "               4770    Total Bags    Small Bags    Large Bags    XLarge Bags  \\\n",
       "count  1.824900e+04  1.824900e+04  1.824900e+04  1.824900e+04   18249.000000   \n",
       "mean   2.283974e+04  2.396392e+05  1.821947e+05  5.433809e+04    3106.426507   \n",
       "std    1.074641e+05  9.862424e+05  7.461785e+05  2.439660e+05   17692.894652   \n",
       "min    0.000000e+00  0.000000e+00  0.000000e+00  0.000000e+00       0.000000   \n",
       "25%    0.000000e+00  5.088640e+03  2.849420e+03  1.274700e+02       0.000000   \n",
       "50%    1.849900e+02  3.974383e+04  2.636282e+04  2.647710e+03       0.000000   \n",
       "75%    6.243420e+03  1.107834e+05  8.333767e+04  2.202925e+04     132.500000   \n",
       "max    2.546439e+06  1.937313e+07  1.338459e+07  5.719097e+06  551693.650000   \n",
       "\n",
       "               year  \n",
       "count  18249.000000  \n",
       "mean    2016.147899  \n",
       "std        0.939938  \n",
       "min     2015.000000  \n",
       "25%     2015.000000  \n",
       "50%     2016.000000  \n",
       "75%     2017.000000  \n",
       "max     2018.000000  "
      ]
     },
     "execution_count": 7,
     "metadata": {},
     "output_type": "execute_result"
    }
   ],
   "source": [
    "df.describe()"
   ]
  },
  {
   "cell_type": "markdown",
   "id": "d8e58417",
   "metadata": {},
   "source": [
    "here we can see the statistical description of the data set.\n",
    "here wecan see standard deviation is so high in some columns like XLarge Bags ,Total Volume\t4046,4225,4770,Total Bags,Small  Bags ,Large Bags .\n",
    "\n",
    "in most of the columns there is a high deference in 75% and max except AveragePrice,Year.\n",
    "removal of skewness and outliers is required in this dataset."
   ]
  },
  {
   "cell_type": "code",
   "execution_count": 8,
   "id": "5c94c48a",
   "metadata": {},
   "outputs": [
    {
     "data": {
      "text/plain": [
       "Index(['Unnamed: 0', 'Date', 'AveragePrice', 'Total Volume', '4046', '4225',\n",
       "       '4770', 'Total Bags', 'Small Bags', 'Large Bags', 'XLarge Bags', 'type',\n",
       "       'year', 'region'],\n",
       "      dtype='object')"
      ]
     },
     "execution_count": 8,
     "metadata": {},
     "output_type": "execute_result"
    }
   ],
   "source": [
    "df.columns"
   ]
  },
  {
   "cell_type": "code",
   "execution_count": 1,
   "id": "25018923",
   "metadata": {},
   "outputs": [],
   "source": [
    "import scipy\n",
    "from scipy.stats import zscore"
   ]
  },
  {
   "cell_type": "code",
   "execution_count": 15,
   "id": "4fa99de6",
   "metadata": {},
   "outputs": [
    {
     "name": "stdout",
     "output_type": "stream",
     "text": [
      "       AveragePrice  Total Volume      4046      4225      4770  Total Bags  \\\n",
      "0          0.188689      0.227716  0.230816  0.199902  0.212091    0.234170   \n",
      "1          0.139020      0.230427  0.231103  0.208054  0.211997    0.233350   \n",
      "2          1.182069      0.212085  0.231007  0.154478  0.211325    0.234730   \n",
      "3          0.809551      0.223444  0.230741  0.185350  0.211864    0.237096   \n",
      "4          0.312861      0.231538  0.230891  0.208719  0.211834    0.236718   \n",
      "...             ...           ...       ...       ...       ...         ...   \n",
      "18244      0.556347      0.241373  0.230017  0.243857  0.212540    0.229301   \n",
      "18245      0.755023      0.242296  0.230693  0.242277  0.212540    0.233594   \n",
      "18246      1.152375      0.242331  0.230693  0.243090  0.205766    0.233463   \n",
      "18247      1.301382      0.241625  0.230428  0.242651  0.205774    0.231866   \n",
      "18248      0.531512      0.241253  0.229347  0.243170  0.210450    0.230807   \n",
      "\n",
      "       Small Bags  Large Bags  XLarge Bags      type      year    region  \n",
      "0        0.232647    0.222352      0.17558  0.999836  1.221282  1.700252  \n",
      "1        0.231568    0.222335      0.17558  0.999836  1.221282  1.700252  \n",
      "2        0.233399    0.222311      0.17558  0.999836  1.221282  1.700252  \n",
      "3        0.236568    0.222186      0.17558  0.999836  1.221282  1.700252  \n",
      "4        0.236154    0.221924      0.17558  0.999836  1.221282  1.700252  \n",
      "...           ...         ...          ...       ...       ...       ...  \n",
      "18244    0.226665    0.220964      0.17558  1.000164  1.970504  1.700811  \n",
      "18245    0.232196    0.221403      0.17558  1.000164  1.970504  1.700811  \n",
      "18246    0.231644    0.222561      0.17558  1.000164  1.970504  1.700811  \n",
      "18247    0.229543    0.222529      0.17558  1.000164  1.970504  1.700811  \n",
      "18248    0.228111    0.222628      0.17558  1.000164  1.970504  1.700811  \n",
      "\n",
      "[18249 rows x 12 columns]\n"
     ]
    }
   ],
   "source": [
    "z= np.abs(zscore(df))\n",
    "print(z)"
   ]
  },
  {
   "cell_type": "code",
   "execution_count": 16,
   "id": "f231c1ff",
   "metadata": {},
   "outputs": [
    {
     "name": "stdout",
     "output_type": "stream",
     "text": [
      "(array([  346,   359,   780, ..., 17304, 17402, 17428], dtype=int64), array([2, 2, 8, ..., 0, 0, 0], dtype=int64))\n"
     ]
    }
   ],
   "source": [
    "threshold=3\n",
    "print(np.where(z>3))"
   ]
  },
  {
   "cell_type": "code",
   "execution_count": 17,
   "id": "5cd72556",
   "metadata": {},
   "outputs": [
    {
     "data": {
      "text/html": [
       "<div>\n",
       "<style scoped>\n",
       "    .dataframe tbody tr th:only-of-type {\n",
       "        vertical-align: middle;\n",
       "    }\n",
       "\n",
       "    .dataframe tbody tr th {\n",
       "        vertical-align: top;\n",
       "    }\n",
       "\n",
       "    .dataframe thead th {\n",
       "        text-align: right;\n",
       "    }\n",
       "</style>\n",
       "<table border=\"1\" class=\"dataframe\">\n",
       "  <thead>\n",
       "    <tr style=\"text-align: right;\">\n",
       "      <th></th>\n",
       "      <th>AveragePrice</th>\n",
       "      <th>Total Volume</th>\n",
       "      <th>4046</th>\n",
       "      <th>4225</th>\n",
       "      <th>4770</th>\n",
       "      <th>Total Bags</th>\n",
       "      <th>Small Bags</th>\n",
       "      <th>Large Bags</th>\n",
       "      <th>XLarge Bags</th>\n",
       "      <th>type</th>\n",
       "      <th>year</th>\n",
       "      <th>region</th>\n",
       "    </tr>\n",
       "  </thead>\n",
       "  <tbody>\n",
       "    <tr>\n",
       "      <th>0</th>\n",
       "      <td>1.33</td>\n",
       "      <td>64236.62</td>\n",
       "      <td>1036.74</td>\n",
       "      <td>54454.85</td>\n",
       "      <td>48.16</td>\n",
       "      <td>8696.87</td>\n",
       "      <td>8603.62</td>\n",
       "      <td>93.25</td>\n",
       "      <td>0.0</td>\n",
       "      <td>0.0</td>\n",
       "      <td>2015</td>\n",
       "      <td>0.0</td>\n",
       "    </tr>\n",
       "    <tr>\n",
       "      <th>1</th>\n",
       "      <td>1.35</td>\n",
       "      <td>54876.98</td>\n",
       "      <td>674.28</td>\n",
       "      <td>44638.81</td>\n",
       "      <td>58.33</td>\n",
       "      <td>9505.56</td>\n",
       "      <td>9408.07</td>\n",
       "      <td>97.49</td>\n",
       "      <td>0.0</td>\n",
       "      <td>0.0</td>\n",
       "      <td>2015</td>\n",
       "      <td>0.0</td>\n",
       "    </tr>\n",
       "    <tr>\n",
       "      <th>2</th>\n",
       "      <td>0.93</td>\n",
       "      <td>118220.22</td>\n",
       "      <td>794.70</td>\n",
       "      <td>109149.67</td>\n",
       "      <td>130.50</td>\n",
       "      <td>8145.35</td>\n",
       "      <td>8042.21</td>\n",
       "      <td>103.14</td>\n",
       "      <td>0.0</td>\n",
       "      <td>0.0</td>\n",
       "      <td>2015</td>\n",
       "      <td>0.0</td>\n",
       "    </tr>\n",
       "    <tr>\n",
       "      <th>3</th>\n",
       "      <td>1.08</td>\n",
       "      <td>78992.15</td>\n",
       "      <td>1132.00</td>\n",
       "      <td>71976.41</td>\n",
       "      <td>72.58</td>\n",
       "      <td>5811.16</td>\n",
       "      <td>5677.40</td>\n",
       "      <td>133.76</td>\n",
       "      <td>0.0</td>\n",
       "      <td>0.0</td>\n",
       "      <td>2015</td>\n",
       "      <td>0.0</td>\n",
       "    </tr>\n",
       "    <tr>\n",
       "      <th>4</th>\n",
       "      <td>1.28</td>\n",
       "      <td>51039.60</td>\n",
       "      <td>941.48</td>\n",
       "      <td>43838.39</td>\n",
       "      <td>75.78</td>\n",
       "      <td>6183.95</td>\n",
       "      <td>5986.26</td>\n",
       "      <td>197.69</td>\n",
       "      <td>0.0</td>\n",
       "      <td>0.0</td>\n",
       "      <td>2015</td>\n",
       "      <td>0.0</td>\n",
       "    </tr>\n",
       "    <tr>\n",
       "      <th>...</th>\n",
       "      <td>...</td>\n",
       "      <td>...</td>\n",
       "      <td>...</td>\n",
       "      <td>...</td>\n",
       "      <td>...</td>\n",
       "      <td>...</td>\n",
       "      <td>...</td>\n",
       "      <td>...</td>\n",
       "      <td>...</td>\n",
       "      <td>...</td>\n",
       "      <td>...</td>\n",
       "      <td>...</td>\n",
       "    </tr>\n",
       "    <tr>\n",
       "      <th>18244</th>\n",
       "      <td>1.63</td>\n",
       "      <td>17074.83</td>\n",
       "      <td>2046.96</td>\n",
       "      <td>1529.20</td>\n",
       "      <td>0.00</td>\n",
       "      <td>13498.67</td>\n",
       "      <td>13066.82</td>\n",
       "      <td>431.85</td>\n",
       "      <td>0.0</td>\n",
       "      <td>1.0</td>\n",
       "      <td>2018</td>\n",
       "      <td>53.0</td>\n",
       "    </tr>\n",
       "    <tr>\n",
       "      <th>18245</th>\n",
       "      <td>1.71</td>\n",
       "      <td>13888.04</td>\n",
       "      <td>1191.70</td>\n",
       "      <td>3431.50</td>\n",
       "      <td>0.00</td>\n",
       "      <td>9264.84</td>\n",
       "      <td>8940.04</td>\n",
       "      <td>324.80</td>\n",
       "      <td>0.0</td>\n",
       "      <td>1.0</td>\n",
       "      <td>2018</td>\n",
       "      <td>53.0</td>\n",
       "    </tr>\n",
       "    <tr>\n",
       "      <th>18246</th>\n",
       "      <td>1.87</td>\n",
       "      <td>13766.76</td>\n",
       "      <td>1191.92</td>\n",
       "      <td>2452.79</td>\n",
       "      <td>727.94</td>\n",
       "      <td>9394.11</td>\n",
       "      <td>9351.80</td>\n",
       "      <td>42.31</td>\n",
       "      <td>0.0</td>\n",
       "      <td>1.0</td>\n",
       "      <td>2018</td>\n",
       "      <td>53.0</td>\n",
       "    </tr>\n",
       "    <tr>\n",
       "      <th>18247</th>\n",
       "      <td>1.93</td>\n",
       "      <td>16205.22</td>\n",
       "      <td>1527.63</td>\n",
       "      <td>2981.04</td>\n",
       "      <td>727.01</td>\n",
       "      <td>10969.54</td>\n",
       "      <td>10919.54</td>\n",
       "      <td>50.00</td>\n",
       "      <td>0.0</td>\n",
       "      <td>1.0</td>\n",
       "      <td>2018</td>\n",
       "      <td>53.0</td>\n",
       "    </tr>\n",
       "    <tr>\n",
       "      <th>18248</th>\n",
       "      <td>1.62</td>\n",
       "      <td>17489.58</td>\n",
       "      <td>2894.77</td>\n",
       "      <td>2356.13</td>\n",
       "      <td>224.53</td>\n",
       "      <td>12014.15</td>\n",
       "      <td>11988.14</td>\n",
       "      <td>26.01</td>\n",
       "      <td>0.0</td>\n",
       "      <td>1.0</td>\n",
       "      <td>2018</td>\n",
       "      <td>53.0</td>\n",
       "    </tr>\n",
       "  </tbody>\n",
       "</table>\n",
       "<p>17651 rows × 12 columns</p>\n",
       "</div>"
      ],
      "text/plain": [
       "       AveragePrice  Total Volume     4046       4225    4770  Total Bags  \\\n",
       "0              1.33      64236.62  1036.74   54454.85   48.16     8696.87   \n",
       "1              1.35      54876.98   674.28   44638.81   58.33     9505.56   \n",
       "2              0.93     118220.22   794.70  109149.67  130.50     8145.35   \n",
       "3              1.08      78992.15  1132.00   71976.41   72.58     5811.16   \n",
       "4              1.28      51039.60   941.48   43838.39   75.78     6183.95   \n",
       "...             ...           ...      ...        ...     ...         ...   \n",
       "18244          1.63      17074.83  2046.96    1529.20    0.00    13498.67   \n",
       "18245          1.71      13888.04  1191.70    3431.50    0.00     9264.84   \n",
       "18246          1.87      13766.76  1191.92    2452.79  727.94     9394.11   \n",
       "18247          1.93      16205.22  1527.63    2981.04  727.01    10969.54   \n",
       "18248          1.62      17489.58  2894.77    2356.13  224.53    12014.15   \n",
       "\n",
       "       Small Bags  Large Bags  XLarge Bags  type  year  region  \n",
       "0         8603.62       93.25          0.0   0.0  2015     0.0  \n",
       "1         9408.07       97.49          0.0   0.0  2015     0.0  \n",
       "2         8042.21      103.14          0.0   0.0  2015     0.0  \n",
       "3         5677.40      133.76          0.0   0.0  2015     0.0  \n",
       "4         5986.26      197.69          0.0   0.0  2015     0.0  \n",
       "...           ...         ...          ...   ...   ...     ...  \n",
       "18244    13066.82      431.85          0.0   1.0  2018    53.0  \n",
       "18245     8940.04      324.80          0.0   1.0  2018    53.0  \n",
       "18246     9351.80       42.31          0.0   1.0  2018    53.0  \n",
       "18247    10919.54       50.00          0.0   1.0  2018    53.0  \n",
       "18248    11988.14       26.01          0.0   1.0  2018    53.0  \n",
       "\n",
       "[17651 rows x 12 columns]"
      ]
     },
     "execution_count": 17,
     "metadata": {},
     "output_type": "execute_result"
    }
   ],
   "source": [
    "df_new=df[(z<3).all(axis=1)]\n",
    "df_new"
   ]
  },
  {
   "cell_type": "markdown",
   "id": "d8e08864",
   "metadata": {},
   "source": [
    "Here we have applied Z score method to remove outliers . In the next step we will calculate the percentage data loss."
   ]
  },
  {
   "cell_type": "code",
   "execution_count": 9,
   "id": "85d23c48",
   "metadata": {},
   "outputs": [],
   "source": [
    "df.drop([\"Unnamed: 0\" , \"Date\"] , axis =1 , inplace =True)"
   ]
  },
  {
   "cell_type": "markdown",
   "id": "de9f7716",
   "metadata": {},
   "source": [
    "\"Unnamed: 0\" , \"Date\" these two columns are less important in this dataset so we are removing these two columns"
   ]
  },
  {
   "cell_type": "code",
   "execution_count": 10,
   "id": "09646d88",
   "metadata": {},
   "outputs": [
    {
     "data": {
      "text/html": [
       "<div>\n",
       "<style scoped>\n",
       "    .dataframe tbody tr th:only-of-type {\n",
       "        vertical-align: middle;\n",
       "    }\n",
       "\n",
       "    .dataframe tbody tr th {\n",
       "        vertical-align: top;\n",
       "    }\n",
       "\n",
       "    .dataframe thead th {\n",
       "        text-align: right;\n",
       "    }\n",
       "</style>\n",
       "<table border=\"1\" class=\"dataframe\">\n",
       "  <thead>\n",
       "    <tr style=\"text-align: right;\">\n",
       "      <th></th>\n",
       "      <th>AveragePrice</th>\n",
       "      <th>Total Volume</th>\n",
       "      <th>4046</th>\n",
       "      <th>4225</th>\n",
       "      <th>4770</th>\n",
       "      <th>Total Bags</th>\n",
       "      <th>Small Bags</th>\n",
       "      <th>Large Bags</th>\n",
       "      <th>XLarge Bags</th>\n",
       "      <th>type</th>\n",
       "      <th>year</th>\n",
       "      <th>region</th>\n",
       "    </tr>\n",
       "  </thead>\n",
       "  <tbody>\n",
       "    <tr>\n",
       "      <th>0</th>\n",
       "      <td>1.33</td>\n",
       "      <td>64236.62</td>\n",
       "      <td>1036.74</td>\n",
       "      <td>54454.85</td>\n",
       "      <td>48.16</td>\n",
       "      <td>8696.87</td>\n",
       "      <td>8603.62</td>\n",
       "      <td>93.25</td>\n",
       "      <td>0.0</td>\n",
       "      <td>conventional</td>\n",
       "      <td>2015</td>\n",
       "      <td>Albany</td>\n",
       "    </tr>\n",
       "    <tr>\n",
       "      <th>1</th>\n",
       "      <td>1.35</td>\n",
       "      <td>54876.98</td>\n",
       "      <td>674.28</td>\n",
       "      <td>44638.81</td>\n",
       "      <td>58.33</td>\n",
       "      <td>9505.56</td>\n",
       "      <td>9408.07</td>\n",
       "      <td>97.49</td>\n",
       "      <td>0.0</td>\n",
       "      <td>conventional</td>\n",
       "      <td>2015</td>\n",
       "      <td>Albany</td>\n",
       "    </tr>\n",
       "    <tr>\n",
       "      <th>2</th>\n",
       "      <td>0.93</td>\n",
       "      <td>118220.22</td>\n",
       "      <td>794.70</td>\n",
       "      <td>109149.67</td>\n",
       "      <td>130.50</td>\n",
       "      <td>8145.35</td>\n",
       "      <td>8042.21</td>\n",
       "      <td>103.14</td>\n",
       "      <td>0.0</td>\n",
       "      <td>conventional</td>\n",
       "      <td>2015</td>\n",
       "      <td>Albany</td>\n",
       "    </tr>\n",
       "    <tr>\n",
       "      <th>3</th>\n",
       "      <td>1.08</td>\n",
       "      <td>78992.15</td>\n",
       "      <td>1132.00</td>\n",
       "      <td>71976.41</td>\n",
       "      <td>72.58</td>\n",
       "      <td>5811.16</td>\n",
       "      <td>5677.40</td>\n",
       "      <td>133.76</td>\n",
       "      <td>0.0</td>\n",
       "      <td>conventional</td>\n",
       "      <td>2015</td>\n",
       "      <td>Albany</td>\n",
       "    </tr>\n",
       "    <tr>\n",
       "      <th>4</th>\n",
       "      <td>1.28</td>\n",
       "      <td>51039.60</td>\n",
       "      <td>941.48</td>\n",
       "      <td>43838.39</td>\n",
       "      <td>75.78</td>\n",
       "      <td>6183.95</td>\n",
       "      <td>5986.26</td>\n",
       "      <td>197.69</td>\n",
       "      <td>0.0</td>\n",
       "      <td>conventional</td>\n",
       "      <td>2015</td>\n",
       "      <td>Albany</td>\n",
       "    </tr>\n",
       "  </tbody>\n",
       "</table>\n",
       "</div>"
      ],
      "text/plain": [
       "   AveragePrice  Total Volume     4046       4225    4770  Total Bags  \\\n",
       "0          1.33      64236.62  1036.74   54454.85   48.16     8696.87   \n",
       "1          1.35      54876.98   674.28   44638.81   58.33     9505.56   \n",
       "2          0.93     118220.22   794.70  109149.67  130.50     8145.35   \n",
       "3          1.08      78992.15  1132.00   71976.41   72.58     5811.16   \n",
       "4          1.28      51039.60   941.48   43838.39   75.78     6183.95   \n",
       "\n",
       "   Small Bags  Large Bags  XLarge Bags          type  year  region  \n",
       "0     8603.62       93.25          0.0  conventional  2015  Albany  \n",
       "1     9408.07       97.49          0.0  conventional  2015  Albany  \n",
       "2     8042.21      103.14          0.0  conventional  2015  Albany  \n",
       "3     5677.40      133.76          0.0  conventional  2015  Albany  \n",
       "4     5986.26      197.69          0.0  conventional  2015  Albany  "
      ]
     },
     "execution_count": 10,
     "metadata": {},
     "output_type": "execute_result"
    }
   ],
   "source": [
    "df.head()"
   ]
  },
  {
   "cell_type": "code",
   "execution_count": 12,
   "id": "70ddde50",
   "metadata": {},
   "outputs": [],
   "source": [
    "import sklearn\n",
    "from sklearn.preprocessing import OrdinalEncoder\n",
    "oe = OrdinalEncoder()"
   ]
  },
  {
   "cell_type": "code",
   "execution_count": 13,
   "id": "dfebfea3",
   "metadata": {},
   "outputs": [],
   "source": [
    "for i in df.columns:\n",
    "    if df[i].dtypes==\"object\":\n",
    "        df[i]= oe.fit_transform(df[i].values.reshape(-1,1))\n",
    "        "
   ]
  },
  {
   "cell_type": "code",
   "execution_count": 14,
   "id": "f19f8306",
   "metadata": {},
   "outputs": [
    {
     "data": {
      "text/html": [
       "<div>\n",
       "<style scoped>\n",
       "    .dataframe tbody tr th:only-of-type {\n",
       "        vertical-align: middle;\n",
       "    }\n",
       "\n",
       "    .dataframe tbody tr th {\n",
       "        vertical-align: top;\n",
       "    }\n",
       "\n",
       "    .dataframe thead th {\n",
       "        text-align: right;\n",
       "    }\n",
       "</style>\n",
       "<table border=\"1\" class=\"dataframe\">\n",
       "  <thead>\n",
       "    <tr style=\"text-align: right;\">\n",
       "      <th></th>\n",
       "      <th>AveragePrice</th>\n",
       "      <th>Total Volume</th>\n",
       "      <th>4046</th>\n",
       "      <th>4225</th>\n",
       "      <th>4770</th>\n",
       "      <th>Total Bags</th>\n",
       "      <th>Small Bags</th>\n",
       "      <th>Large Bags</th>\n",
       "      <th>XLarge Bags</th>\n",
       "      <th>type</th>\n",
       "      <th>year</th>\n",
       "      <th>region</th>\n",
       "    </tr>\n",
       "  </thead>\n",
       "  <tbody>\n",
       "    <tr>\n",
       "      <th>0</th>\n",
       "      <td>1.33</td>\n",
       "      <td>64236.62</td>\n",
       "      <td>1036.74</td>\n",
       "      <td>54454.85</td>\n",
       "      <td>48.16</td>\n",
       "      <td>8696.87</td>\n",
       "      <td>8603.62</td>\n",
       "      <td>93.25</td>\n",
       "      <td>0.0</td>\n",
       "      <td>0.0</td>\n",
       "      <td>2015</td>\n",
       "      <td>0.0</td>\n",
       "    </tr>\n",
       "    <tr>\n",
       "      <th>1</th>\n",
       "      <td>1.35</td>\n",
       "      <td>54876.98</td>\n",
       "      <td>674.28</td>\n",
       "      <td>44638.81</td>\n",
       "      <td>58.33</td>\n",
       "      <td>9505.56</td>\n",
       "      <td>9408.07</td>\n",
       "      <td>97.49</td>\n",
       "      <td>0.0</td>\n",
       "      <td>0.0</td>\n",
       "      <td>2015</td>\n",
       "      <td>0.0</td>\n",
       "    </tr>\n",
       "    <tr>\n",
       "      <th>2</th>\n",
       "      <td>0.93</td>\n",
       "      <td>118220.22</td>\n",
       "      <td>794.70</td>\n",
       "      <td>109149.67</td>\n",
       "      <td>130.50</td>\n",
       "      <td>8145.35</td>\n",
       "      <td>8042.21</td>\n",
       "      <td>103.14</td>\n",
       "      <td>0.0</td>\n",
       "      <td>0.0</td>\n",
       "      <td>2015</td>\n",
       "      <td>0.0</td>\n",
       "    </tr>\n",
       "    <tr>\n",
       "      <th>3</th>\n",
       "      <td>1.08</td>\n",
       "      <td>78992.15</td>\n",
       "      <td>1132.00</td>\n",
       "      <td>71976.41</td>\n",
       "      <td>72.58</td>\n",
       "      <td>5811.16</td>\n",
       "      <td>5677.40</td>\n",
       "      <td>133.76</td>\n",
       "      <td>0.0</td>\n",
       "      <td>0.0</td>\n",
       "      <td>2015</td>\n",
       "      <td>0.0</td>\n",
       "    </tr>\n",
       "    <tr>\n",
       "      <th>4</th>\n",
       "      <td>1.28</td>\n",
       "      <td>51039.60</td>\n",
       "      <td>941.48</td>\n",
       "      <td>43838.39</td>\n",
       "      <td>75.78</td>\n",
       "      <td>6183.95</td>\n",
       "      <td>5986.26</td>\n",
       "      <td>197.69</td>\n",
       "      <td>0.0</td>\n",
       "      <td>0.0</td>\n",
       "      <td>2015</td>\n",
       "      <td>0.0</td>\n",
       "    </tr>\n",
       "  </tbody>\n",
       "</table>\n",
       "</div>"
      ],
      "text/plain": [
       "   AveragePrice  Total Volume     4046       4225    4770  Total Bags  \\\n",
       "0          1.33      64236.62  1036.74   54454.85   48.16     8696.87   \n",
       "1          1.35      54876.98   674.28   44638.81   58.33     9505.56   \n",
       "2          0.93     118220.22   794.70  109149.67  130.50     8145.35   \n",
       "3          1.08      78992.15  1132.00   71976.41   72.58     5811.16   \n",
       "4          1.28      51039.60   941.48   43838.39   75.78     6183.95   \n",
       "\n",
       "   Small Bags  Large Bags  XLarge Bags  type  year  region  \n",
       "0     8603.62       93.25          0.0   0.0  2015     0.0  \n",
       "1     9408.07       97.49          0.0   0.0  2015     0.0  \n",
       "2     8042.21      103.14          0.0   0.0  2015     0.0  \n",
       "3     5677.40      133.76          0.0   0.0  2015     0.0  \n",
       "4     5986.26      197.69          0.0   0.0  2015     0.0  "
      ]
     },
     "execution_count": 14,
     "metadata": {},
     "output_type": "execute_result"
    }
   ],
   "source": [
    "df.head()"
   ]
  },
  {
   "cell_type": "markdown",
   "id": "6584f27f",
   "metadata": {},
   "source": [
    "here we have used ordinal encoding technique to encode catagorical features."
   ]
  },
  {
   "cell_type": "code",
   "execution_count": 96,
   "id": "464208cb",
   "metadata": {},
   "outputs": [
    {
     "data": {
      "text/plain": [
       "1.0    8992\n",
       "0.0    8659\n",
       "Name: type, dtype: int64"
      ]
     },
     "execution_count": 96,
     "metadata": {},
     "output_type": "execute_result"
    }
   ],
   "source": [
    "df_new.type.value_counts()"
   ]
  },
  {
   "cell_type": "code",
   "execution_count": 64,
   "id": "6cfe5c98",
   "metadata": {},
   "outputs": [
    {
     "data": {
      "text/plain": [
       "0.0     338\n",
       "40.0    338\n",
       "29.0    338\n",
       "30.0    338\n",
       "31.0    338\n",
       "32.0    338\n",
       "33.0    338\n",
       "34.0    338\n",
       "35.0    338\n",
       "36.0    338\n",
       "37.0    338\n",
       "38.0    338\n",
       "39.0    338\n",
       "41.0    338\n",
       "1.0     338\n",
       "42.0    338\n",
       "43.0    338\n",
       "44.0    338\n",
       "45.0    338\n",
       "46.0    338\n",
       "47.0    338\n",
       "48.0    338\n",
       "49.0    338\n",
       "50.0    338\n",
       "51.0    338\n",
       "52.0    338\n",
       "28.0    338\n",
       "27.0    338\n",
       "26.0    338\n",
       "25.0    338\n",
       "2.0     338\n",
       "3.0     338\n",
       "4.0     338\n",
       "5.0     338\n",
       "6.0     338\n",
       "7.0     338\n",
       "8.0     338\n",
       "9.0     338\n",
       "10.0    338\n",
       "11.0    338\n",
       "12.0    338\n",
       "13.0    338\n",
       "14.0    338\n",
       "15.0    338\n",
       "16.0    338\n",
       "17.0    338\n",
       "18.0    338\n",
       "19.0    338\n",
       "20.0    338\n",
       "21.0    338\n",
       "22.0    338\n",
       "23.0    338\n",
       "24.0    338\n",
       "53.0    335\n",
       "Name: region, dtype: int64"
      ]
     },
     "execution_count": 64,
     "metadata": {},
     "output_type": "execute_result"
    }
   ],
   "source": [
    "df.region.value_counts()"
   ]
  },
  {
   "cell_type": "markdown",
   "id": "78148c14",
   "metadata": {},
   "source": [
    "data is balanced so no need to balance this dataset"
   ]
  },
  {
   "cell_type": "code",
   "execution_count": 65,
   "id": "021cfa7c",
   "metadata": {},
   "outputs": [
    {
     "data": {
      "text/plain": [
       "0.00       12048\n",
       "3.33          29\n",
       "6.67          16\n",
       "1.11          15\n",
       "5.00          12\n",
       "           ...  \n",
       "3018.05        1\n",
       "2739.44        1\n",
       "9301.67        1\n",
       "8640.00        1\n",
       "24.18          1\n",
       "Name: XLarge Bags, Length: 5588, dtype: int64"
      ]
     },
     "execution_count": 65,
     "metadata": {},
     "output_type": "execute_result"
    }
   ],
   "source": [
    "df[\"XLarge Bags\"].value_counts()"
   ]
  },
  {
   "cell_type": "code",
   "execution_count": 18,
   "id": "c59891ad",
   "metadata": {},
   "outputs": [
    {
     "data": {
      "text/html": [
       "<div>\n",
       "<style scoped>\n",
       "    .dataframe tbody tr th:only-of-type {\n",
       "        vertical-align: middle;\n",
       "    }\n",
       "\n",
       "    .dataframe tbody tr th {\n",
       "        vertical-align: top;\n",
       "    }\n",
       "\n",
       "    .dataframe thead th {\n",
       "        text-align: right;\n",
       "    }\n",
       "</style>\n",
       "<table border=\"1\" class=\"dataframe\">\n",
       "  <thead>\n",
       "    <tr style=\"text-align: right;\">\n",
       "      <th></th>\n",
       "      <th>AveragePrice</th>\n",
       "      <th>Total Volume</th>\n",
       "      <th>4046</th>\n",
       "      <th>4225</th>\n",
       "      <th>4770</th>\n",
       "      <th>Total Bags</th>\n",
       "      <th>Small Bags</th>\n",
       "      <th>Large Bags</th>\n",
       "      <th>XLarge Bags</th>\n",
       "      <th>year</th>\n",
       "      <th>region</th>\n",
       "    </tr>\n",
       "    <tr>\n",
       "      <th>type</th>\n",
       "      <th></th>\n",
       "      <th></th>\n",
       "      <th></th>\n",
       "      <th></th>\n",
       "      <th></th>\n",
       "      <th></th>\n",
       "      <th></th>\n",
       "      <th></th>\n",
       "      <th></th>\n",
       "      <th></th>\n",
       "      <th></th>\n",
       "    </tr>\n",
       "  </thead>\n",
       "  <tbody>\n",
       "    <tr>\n",
       "      <th>0.0</th>\n",
       "      <td>1.158040</td>\n",
       "      <td>1.653213e+06</td>\n",
       "      <td>578611.649925</td>\n",
       "      <td>574805.318859</td>\n",
       "      <td>45405.796798</td>\n",
       "      <td>454390.130901</td>\n",
       "      <td>346721.795885</td>\n",
       "      <td>101457.698855</td>\n",
       "      <td>6210.635065</td>\n",
       "      <td>2016.147929</td>\n",
       "      <td>26.500000</td>\n",
       "    </tr>\n",
       "    <tr>\n",
       "      <th>1.0</th>\n",
       "      <td>1.653999</td>\n",
       "      <td>4.781121e+04</td>\n",
       "      <td>7311.281600</td>\n",
       "      <td>15411.857724</td>\n",
       "      <td>266.254582</td>\n",
       "      <td>24817.654696</td>\n",
       "      <td>17613.474543</td>\n",
       "      <td>7202.982659</td>\n",
       "      <td>1.197164</td>\n",
       "      <td>2016.147868</td>\n",
       "      <td>26.491286</td>\n",
       "    </tr>\n",
       "  </tbody>\n",
       "</table>\n",
       "</div>"
      ],
      "text/plain": [
       "      AveragePrice  Total Volume           4046           4225          4770  \\\n",
       "type                                                                           \n",
       "0.0       1.158040  1.653213e+06  578611.649925  574805.318859  45405.796798   \n",
       "1.0       1.653999  4.781121e+04    7311.281600   15411.857724    266.254582   \n",
       "\n",
       "         Total Bags     Small Bags     Large Bags  XLarge Bags         year  \\\n",
       "type                                                                          \n",
       "0.0   454390.130901  346721.795885  101457.698855  6210.635065  2016.147929   \n",
       "1.0    24817.654696   17613.474543    7202.982659     1.197164  2016.147868   \n",
       "\n",
       "         region  \n",
       "type             \n",
       "0.0   26.500000  \n",
       "1.0   26.491286  "
      ]
     },
     "execution_count": 18,
     "metadata": {},
     "output_type": "execute_result"
    }
   ],
   "source": [
    "dftype=df.groupby(\"type\").mean()\n",
    "dftype  "
   ]
  },
  {
   "cell_type": "markdown",
   "id": "fb948191",
   "metadata": {},
   "source": [
    "here we can see the total volume , avarage price on the basis of type ,avg price of type 1 is slightly greater than type 0 where total volume is less in case of type 1 in comparison to type 0"
   ]
  },
  {
   "cell_type": "code",
   "execution_count": 67,
   "id": "0acae6a1",
   "metadata": {},
   "outputs": [
    {
     "data": {
      "text/plain": [
       "AveragePrice     0.580303\n",
       "Total Volume     9.007687\n",
       "4046             8.648220\n",
       "4225             8.942466\n",
       "4770            10.159396\n",
       "Total Bags       9.756072\n",
       "Small Bags       9.540660\n",
       "Large Bags       9.796455\n",
       "XLarge Bags     13.139751\n",
       "type             0.000329\n",
       "region           0.000030\n",
       "dtype: float64"
      ]
     },
     "execution_count": 67,
     "metadata": {},
     "output_type": "execute_result"
    }
   ],
   "source": [
    "df.skew()"
   ]
  },
  {
   "cell_type": "code",
   "execution_count": 20,
   "id": "a05ed138",
   "metadata": {},
   "outputs": [
    {
     "data": {
      "text/plain": [
       "AveragePrice    0.377432\n",
       "Total Volume    3.767138\n",
       "4046            4.909848\n",
       "4225            4.455745\n",
       "4770            5.117170\n",
       "Total Bags      4.066771\n",
       "Small Bags      4.222706\n",
       "Large Bags      5.053434\n",
       "XLarge Bags     6.135607\n",
       "type           -0.037741\n",
       "year            0.229976\n",
       "region          0.012798\n",
       "dtype: float64"
      ]
     },
     "execution_count": 20,
     "metadata": {},
     "output_type": "execute_result"
    }
   ],
   "source": [
    "df_new.skew()"
   ]
  },
  {
   "cell_type": "markdown",
   "id": "e793991c",
   "metadata": {},
   "source": [
    "here we can see that the data is little bit skewd and removing of skewness is needed.we will remove the skewness in next steps."
   ]
  },
  {
   "cell_type": "code",
   "execution_count": 24,
   "id": "77c84ce7",
   "metadata": {},
   "outputs": [],
   "source": [
    "x=df_new.iloc[:,:-1]\n",
    "y=df_new.iloc[:,-1]\n"
   ]
  },
  {
   "cell_type": "markdown",
   "id": "96783405",
   "metadata": {},
   "source": [
    "here we have splitted the data into input and output variable"
   ]
  },
  {
   "cell_type": "code",
   "execution_count": 25,
   "id": "e4ae6905",
   "metadata": {},
   "outputs": [
    {
     "data": {
      "text/html": [
       "<div>\n",
       "<style scoped>\n",
       "    .dataframe tbody tr th:only-of-type {\n",
       "        vertical-align: middle;\n",
       "    }\n",
       "\n",
       "    .dataframe tbody tr th {\n",
       "        vertical-align: top;\n",
       "    }\n",
       "\n",
       "    .dataframe thead th {\n",
       "        text-align: right;\n",
       "    }\n",
       "</style>\n",
       "<table border=\"1\" class=\"dataframe\">\n",
       "  <thead>\n",
       "    <tr style=\"text-align: right;\">\n",
       "      <th></th>\n",
       "      <th>AveragePrice</th>\n",
       "      <th>Total Volume</th>\n",
       "      <th>4046</th>\n",
       "      <th>4225</th>\n",
       "      <th>4770</th>\n",
       "      <th>Total Bags</th>\n",
       "      <th>Small Bags</th>\n",
       "      <th>Large Bags</th>\n",
       "      <th>XLarge Bags</th>\n",
       "      <th>type</th>\n",
       "      <th>year</th>\n",
       "    </tr>\n",
       "  </thead>\n",
       "  <tbody>\n",
       "    <tr>\n",
       "      <th>0</th>\n",
       "      <td>-0.117824</td>\n",
       "      <td>-0.075324</td>\n",
       "      <td>-0.657421</td>\n",
       "      <td>0.351430</td>\n",
       "      <td>-0.222566</td>\n",
       "      <td>-0.537507</td>\n",
       "      <td>-0.347421</td>\n",
       "      <td>-0.781153</td>\n",
       "      <td>-0.677919</td>\n",
       "      <td>-1.019047</td>\n",
       "      <td>-1.210647</td>\n",
       "    </tr>\n",
       "    <tr>\n",
       "      <th>1</th>\n",
       "      <td>-0.064330</td>\n",
       "      <td>-0.147497</td>\n",
       "      <td>-0.777179</td>\n",
       "      <td>0.269513</td>\n",
       "      <td>-0.175223</td>\n",
       "      <td>-0.498128</td>\n",
       "      <td>-0.311322</td>\n",
       "      <td>-0.771198</td>\n",
       "      <td>-0.677919</td>\n",
       "      <td>-1.019047</td>\n",
       "      <td>-1.210647</td>\n",
       "    </tr>\n",
       "    <tr>\n",
       "      <th>2</th>\n",
       "      <td>-1.298865</td>\n",
       "      <td>0.205556</td>\n",
       "      <td>-0.731776</td>\n",
       "      <td>0.649333</td>\n",
       "      <td>0.023923</td>\n",
       "      <td>-0.566369</td>\n",
       "      <td>-0.374453</td>\n",
       "      <td>-0.758523</td>\n",
       "      <td>-0.677919</td>\n",
       "      <td>-1.019047</td>\n",
       "      <td>-1.210647</td>\n",
       "    </tr>\n",
       "    <tr>\n",
       "      <th>3</th>\n",
       "      <td>-0.829026</td>\n",
       "      <td>0.019655</td>\n",
       "      <td>-0.632592</td>\n",
       "      <td>0.468799</td>\n",
       "      <td>-0.121164</td>\n",
       "      <td>-0.713068</td>\n",
       "      <td>-0.510991</td>\n",
       "      <td>-0.699123</td>\n",
       "      <td>-0.677919</td>\n",
       "      <td>-1.019047</td>\n",
       "      <td>-1.210647</td>\n",
       "    </tr>\n",
       "    <tr>\n",
       "      <th>4</th>\n",
       "      <td>-0.253635</td>\n",
       "      <td>-0.180674</td>\n",
       "      <td>-0.684504</td>\n",
       "      <td>0.262126</td>\n",
       "      <td>-0.110491</td>\n",
       "      <td>-0.686312</td>\n",
       "      <td>-0.490534</td>\n",
       "      <td>-0.607027</td>\n",
       "      <td>-0.677919</td>\n",
       "      <td>-1.019047</td>\n",
       "      <td>-1.210647</td>\n",
       "    </tr>\n",
       "    <tr>\n",
       "      <th>...</th>\n",
       "      <td>...</td>\n",
       "      <td>...</td>\n",
       "      <td>...</td>\n",
       "      <td>...</td>\n",
       "      <td>...</td>\n",
       "      <td>...</td>\n",
       "      <td>...</td>\n",
       "      <td>...</td>\n",
       "      <td>...</td>\n",
       "      <td>...</td>\n",
       "      <td>...</td>\n",
       "    </tr>\n",
       "    <tr>\n",
       "      <th>17646</th>\n",
       "      <td>0.639410</td>\n",
       "      <td>-0.678214</td>\n",
       "      <td>-0.462066</td>\n",
       "      <td>-0.926028</td>\n",
       "      <td>-1.228986</td>\n",
       "      <td>-0.340422</td>\n",
       "      <td>-0.175753</td>\n",
       "      <td>-0.412401</td>\n",
       "      <td>-0.677919</td>\n",
       "      <td>0.981309</td>\n",
       "      <td>1.978707</td>\n",
       "    </tr>\n",
       "    <tr>\n",
       "      <th>17647</th>\n",
       "      <td>0.826487</td>\n",
       "      <td>-0.771326</td>\n",
       "      <td>-0.618019</td>\n",
       "      <td>-0.670600</td>\n",
       "      <td>-1.228986</td>\n",
       "      <td>-0.509513</td>\n",
       "      <td>-0.331971</td>\n",
       "      <td>-0.484991</td>\n",
       "      <td>-0.677919</td>\n",
       "      <td>0.981309</td>\n",
       "      <td>1.978707</td>\n",
       "    </tr>\n",
       "    <tr>\n",
       "      <th>17648</th>\n",
       "      <td>1.184324</td>\n",
       "      <td>-0.775274</td>\n",
       "      <td>-0.617966</td>\n",
       "      <td>-0.778893</td>\n",
       "      <td>0.445710</td>\n",
       "      <td>-0.503366</td>\n",
       "      <td>-0.313756</td>\n",
       "      <td>-0.950743</td>\n",
       "      <td>-0.677919</td>\n",
       "      <td>0.981309</td>\n",
       "      <td>1.978707</td>\n",
       "    </tr>\n",
       "    <tr>\n",
       "      <th>17649</th>\n",
       "      <td>1.313296</td>\n",
       "      <td>-0.701797</td>\n",
       "      <td>-0.547011</td>\n",
       "      <td>-0.716371</td>\n",
       "      <td>0.445399</td>\n",
       "      <td>-0.434176</td>\n",
       "      <td>-0.250408</td>\n",
       "      <td>-0.916068</td>\n",
       "      <td>-0.677919</td>\n",
       "      <td>0.981309</td>\n",
       "      <td>1.978707</td>\n",
       "    </tr>\n",
       "    <tr>\n",
       "      <th>17650</th>\n",
       "      <td>0.615619</td>\n",
       "      <td>-0.667381</td>\n",
       "      <td>-0.359671</td>\n",
       "      <td>-0.791650</td>\n",
       "      <td>0.157768</td>\n",
       "      <td>-0.393236</td>\n",
       "      <td>-0.211755</td>\n",
       "      <td>-1.048116</td>\n",
       "      <td>-0.677919</td>\n",
       "      <td>0.981309</td>\n",
       "      <td>1.978707</td>\n",
       "    </tr>\n",
       "  </tbody>\n",
       "</table>\n",
       "<p>17651 rows × 11 columns</p>\n",
       "</div>"
      ],
      "text/plain": [
       "       AveragePrice  Total Volume      4046      4225      4770  Total Bags  \\\n",
       "0         -0.117824     -0.075324 -0.657421  0.351430 -0.222566   -0.537507   \n",
       "1         -0.064330     -0.147497 -0.777179  0.269513 -0.175223   -0.498128   \n",
       "2         -1.298865      0.205556 -0.731776  0.649333  0.023923   -0.566369   \n",
       "3         -0.829026      0.019655 -0.632592  0.468799 -0.121164   -0.713068   \n",
       "4         -0.253635     -0.180674 -0.684504  0.262126 -0.110491   -0.686312   \n",
       "...             ...           ...       ...       ...       ...         ...   \n",
       "17646      0.639410     -0.678214 -0.462066 -0.926028 -1.228986   -0.340422   \n",
       "17647      0.826487     -0.771326 -0.618019 -0.670600 -1.228986   -0.509513   \n",
       "17648      1.184324     -0.775274 -0.617966 -0.778893  0.445710   -0.503366   \n",
       "17649      1.313296     -0.701797 -0.547011 -0.716371  0.445399   -0.434176   \n",
       "17650      0.615619     -0.667381 -0.359671 -0.791650  0.157768   -0.393236   \n",
       "\n",
       "       Small Bags  Large Bags  XLarge Bags      type      year  \n",
       "0       -0.347421   -0.781153    -0.677919 -1.019047 -1.210647  \n",
       "1       -0.311322   -0.771198    -0.677919 -1.019047 -1.210647  \n",
       "2       -0.374453   -0.758523    -0.677919 -1.019047 -1.210647  \n",
       "3       -0.510991   -0.699123    -0.677919 -1.019047 -1.210647  \n",
       "4       -0.490534   -0.607027    -0.677919 -1.019047 -1.210647  \n",
       "...           ...         ...          ...       ...       ...  \n",
       "17646   -0.175753   -0.412401    -0.677919  0.981309  1.978707  \n",
       "17647   -0.331971   -0.484991    -0.677919  0.981309  1.978707  \n",
       "17648   -0.313756   -0.950743    -0.677919  0.981309  1.978707  \n",
       "17649   -0.250408   -0.916068    -0.677919  0.981309  1.978707  \n",
       "17650   -0.211755   -1.048116    -0.677919  0.981309  1.978707  \n",
       "\n",
       "[17651 rows x 11 columns]"
      ]
     },
     "execution_count": 25,
     "metadata": {},
     "output_type": "execute_result"
    }
   ],
   "source": [
    "from sklearn.preprocessing import power_transform\n",
    "xt=power_transform(x, method=\"yeo-johnson\")\n",
    "xt=pd.DataFrame(xt)\n",
    "xt.columns = x.columns\n",
    "xt"
   ]
  },
  {
   "cell_type": "markdown",
   "id": "1eb16029",
   "metadata": {},
   "source": [
    "here we have applied yeo jhonson method for removing the skewness."
   ]
  },
  {
   "cell_type": "code",
   "execution_count": 32,
   "id": "178fed93",
   "metadata": {},
   "outputs": [
    {
     "data": {
      "text/plain": [
       "3.276891884486821"
      ]
     },
     "execution_count": 32,
     "metadata": {},
     "output_type": "execute_result"
    }
   ],
   "source": [
    "dataloss =(18249-17651) /18249 *100\n",
    "dataloss"
   ]
  },
  {
   "cell_type": "markdown",
   "id": "b96ed7a5",
   "metadata": {},
   "source": [
    "after removing outliers we can see that data loss percentage is not so much , so we are going for the next step that is splitting of data into input variable and output variable."
   ]
  },
  {
   "cell_type": "code",
   "execution_count": 26,
   "id": "b0c7e0fe",
   "metadata": {},
   "outputs": [
    {
     "data": {
      "text/plain": [
       "AveragePrice    0.000464\n",
       "Total Volume   -0.008642\n",
       "4046           -0.039282\n",
       "4225           -0.044675\n",
       "4770            0.024168\n",
       "Total Bags     -0.022204\n",
       "Small Bags     -0.024405\n",
       "Large Bags     -0.110913\n",
       "XLarge Bags     0.853758\n",
       "type           -0.037741\n",
       "year            0.227731\n",
       "dtype: float64"
      ]
     },
     "execution_count": 26,
     "metadata": {},
     "output_type": "execute_result"
    }
   ],
   "source": [
    "xt.skew()"
   ]
  },
  {
   "cell_type": "markdown",
   "id": "89c14db2",
   "metadata": {},
   "source": [
    "here we can see that skewness is removed in most of the columns."
   ]
  },
  {
   "cell_type": "code",
   "execution_count": 27,
   "id": "897ec9ff",
   "metadata": {},
   "outputs": [
    {
     "data": {
      "text/plain": [
       "<AxesSubplot:>"
      ]
     },
     "execution_count": 27,
     "metadata": {},
     "output_type": "execute_result"
    },
    {
     "data": {
      "image/png": "[encoded data removed]",
      "text/plain": [
       "<Figure size 720x720 with 2 Axes>"
      ]
     },
     "metadata": {
      "needs_background": "light"
     },
     "output_type": "display_data"
    }
   ],
   "source": [
    "plt.figure(figsize=(10,10))\n",
    "sns.heatmap(df.corr(),annot =True)"
   ]
  },
  {
   "cell_type": "markdown",
   "id": "5802b0aa",
   "metadata": {},
   "source": [
    "here we can see the corelation of different features .\n",
    "\n",
    "here we can see that total bags , small bags , large bags , extra large bags these columns are highly corelated with each other.\n",
    "\n",
    "avarage price column is highly negetively corelated with maximum other features"
   ]
  },
  {
   "cell_type": "code",
   "execution_count": 74,
   "id": "11e85f97",
   "metadata": {},
   "outputs": [
    {
     "data": {
      "image/png": "[encoded data removed]",
      "text/plain": [
       "<Figure size 720x288 with 2 Axes>"
      ]
     },
     "metadata": {
      "needs_background": "light"
     },
     "output_type": "display_data"
    },
    {
     "data": {
      "image/png": "[encoded data removed]",
      "text/plain": [
       "<Figure size 720x288 with 2 Axes>"
      ]
     },
     "metadata": {
      "needs_background": "light"
     },
     "output_type": "display_data"
    },
    {
     "data": {
      "image/png": "[encoded data removed]",
      "text/plain": [
       "<Figure size 720x288 with 2 Axes>"
      ]
     },
     "metadata": {
      "needs_background": "light"
     },
     "output_type": "display_data"
    },
    {
     "data": {
      "image/png": "[encoded data removed]",
      "text/plain": [
       "<Figure size 720x288 with 2 Axes>"
      ]
     },
     "metadata": {
      "needs_background": "light"
     },
     "output_type": "display_data"
    },
    {
     "data": {
      "image/png": "[encoded data removed]",
      "text/plain": [
       "<Figure size 720x288 with 2 Axes>"
      ]
     },
     "metadata": {
      "needs_background": "light"
     },
     "output_type": "display_data"
    },
    {
     "data": {
      "image/png": "[encoded data removed]",
      "text/plain": [
       "<Figure size 720x288 with 2 Axes>"
      ]
     },
     "metadata": {
      "needs_background": "light"
     },
     "output_type": "display_data"
    },
    {
     "data": {
      "image/png": "[encoded data removed]",
      "text/plain": [
       "<Figure size 720x288 with 2 Axes>"
      ]
     },
     "metadata": {
      "needs_background": "light"
     },
     "output_type": "display_data"
    },
    {
     "data": {
      "image/png": "[encoded data removed]",
      "text/plain": [
       "<Figure size 720x288 with 2 Axes>"
      ]
     },
     "metadata": {
      "needs_background": "light"
     },
     "output_type": "display_data"
    },
    {
     "data": {
      "image/png": "[encoded data removed]",
      "text/plain": [
       "<Figure size 720x288 with 2 Axes>"
      ]
     },
     "metadata": {
      "needs_background": "light"
     },
     "output_type": "display_data"
    },
    {
     "data": {
      "image/png": "[encoded data removed]",
      "text/plain": [
       "<Figure size 720x288 with 2 Axes>"
      ]
     },
     "metadata": {
      "needs_background": "light"
     },
     "output_type": "display_data"
    }
   ],
   "source": [
    "for col in xt.columns:\n",
    "    plt.figure(figsize=(10,4))\n",
    "    plt.subplot(121)\n",
    "    sns.distplot(xt[col])\n",
    "    plt.title(col)\n",
    "    \n",
    "    plt.subplot(122)\n",
    "    sns.distplot(x[col])\n",
    "    plt.title(col)"
   ]
  },
  {
   "cell_type": "markdown",
   "id": "7b2d2c7a",
   "metadata": {},
   "source": [
    "here also we can compare the distplots before removing skewness and afer remving skewness.before removing skewness maximum columns were not normally distributed.there is a significant change in every columns except type after removing skewness ."
   ]
  },
  {
   "cell_type": "code",
   "execution_count": 28,
   "id": "b547a408",
   "metadata": {},
   "outputs": [
    {
     "data": {
      "text/plain": [
       "<AxesSubplot:xlabel='type', ylabel='AveragePrice'>"
      ]
     },
     "execution_count": 28,
     "metadata": {},
     "output_type": "execute_result"
    },
    {
     "data": {
      "image/png": "[encoded data removed]",
      "text/plain": [
       "<Figure size 432x288 with 1 Axes>"
      ]
     },
     "metadata": {
      "needs_background": "light"
     },
     "output_type": "display_data"
    }
   ],
   "source": [
    "sns.boxplot(x=\"type\", y=\"AveragePrice\", data=df)"
   ]
  },
  {
   "cell_type": "markdown",
   "id": "1925eda9",
   "metadata": {},
   "source": [
    "from theabove boxplot we can see that avarage price of type 1 is greater than type 0"
   ]
  },
  {
   "cell_type": "code",
   "execution_count": 47,
   "id": "485b2358",
   "metadata": {},
   "outputs": [
    {
     "data": {
      "text/plain": [
       "<AxesSubplot:xlabel='region', ylabel='AveragePrice'>"
      ]
     },
     "execution_count": 47,
     "metadata": {},
     "output_type": "execute_result"
    },
    {
     "data": {
      "image/png": "[encoded data removed]",
      "text/plain": [
       "<Figure size 2160x720 with 1 Axes>"
      ]
     },
     "metadata": {
      "needs_background": "light"
     },
     "output_type": "display_data"
    }
   ],
   "source": [
    "plt.figure(figsize=(30,10))\n",
    "mask = df[\"type\"]==0\n",
    "sns.barplot(y=df[\"AveragePrice\"] , x=df[\"region\"],hue=df[\"year\"],data=df[mask])\n"
   ]
  },
  {
   "cell_type": "code",
   "execution_count": 48,
   "id": "18ab0054",
   "metadata": {},
   "outputs": [
    {
     "data": {
      "text/plain": [
       "<AxesSubplot:xlabel='region', ylabel='AveragePrice'>"
      ]
     },
     "execution_count": 48,
     "metadata": {},
     "output_type": "execute_result"
    },
    {
     "data": {
      "image/png": "[encoded data removed]",
      "text/plain": [
       "<Figure size 2160x720 with 1 Axes>"
      ]
     },
     "metadata": {
      "needs_background": "light"
     },
     "output_type": "display_data"
    }
   ],
   "source": [
    "plt.figure(figsize=(30,10))\n",
    "mask = df[\"type\"]==1\n",
    "sns.barplot(y=df[\"AveragePrice\"] , x=df[\"region\"],hue=df[\"year\"],data=df[mask])\n"
   ]
  },
  {
   "cell_type": "markdown",
   "id": "7264df4a",
   "metadata": {},
   "source": [
    "from the above two multivariate analysis we can compare the avg price , region and year for two different type of avocados.\n",
    "we can see that the avarage price of both types of avocados is highest in the region 42 ,in every year , so we can say that region 42is the best for both type of avocadoes.\n",
    "avg price of avocados from region 18 is the lowest.\n"
   ]
  },
  {
   "cell_type": "code",
   "execution_count": 30,
   "id": "76b4b100",
   "metadata": {},
   "outputs": [
    {
     "data": {
      "image/png": "[encoded data removed]",
      "text/plain": [
       "<Figure size 1440x576 with 1 Axes>"
      ]
     },
     "metadata": {
      "needs_background": "light"
     },
     "output_type": "display_data"
    }
   ],
   "source": [
    "df.boxplot(figsize=[20,8])\n",
    "plt.subplots_adjust(bottom=0.25)\n",
    "plt.show()"
   ]
  },
  {
   "cell_type": "code",
   "execution_count": 29,
   "id": "6975dda9",
   "metadata": {},
   "outputs": [
    {
     "data": {
      "image/png": "[encoded data removed]",
      "text/plain": [
       "<Figure size 1440x576 with 1 Axes>"
      ]
     },
     "metadata": {
      "needs_background": "light"
     },
     "output_type": "display_data"
    }
   ],
   "source": [
    "xt.boxplot(figsize=[20,8])\n",
    "plt.subplots_adjust(bottom=0.25)\n",
    "plt.show()"
   ]
  },
  {
   "cell_type": "markdown",
   "id": "b9241264",
   "metadata": {},
   "source": [
    "we can compare the boxplots and we can see that maximum outliers are removed."
   ]
  },
  {
   "cell_type": "code",
   "execution_count": 52,
   "id": "4988a837",
   "metadata": {},
   "outputs": [
    {
     "data": {
      "text/html": [
       "<div>\n",
       "<style scoped>\n",
       "    .dataframe tbody tr th:only-of-type {\n",
       "        vertical-align: middle;\n",
       "    }\n",
       "\n",
       "    .dataframe tbody tr th {\n",
       "        vertical-align: top;\n",
       "    }\n",
       "\n",
       "    .dataframe thead th {\n",
       "        text-align: right;\n",
       "    }\n",
       "</style>\n",
       "<table border=\"1\" class=\"dataframe\">\n",
       "  <thead>\n",
       "    <tr style=\"text-align: right;\">\n",
       "      <th></th>\n",
       "      <th>AveragePrice</th>\n",
       "      <th>Total Volume</th>\n",
       "      <th>4046</th>\n",
       "      <th>4225</th>\n",
       "      <th>4770</th>\n",
       "      <th>Total Bags</th>\n",
       "      <th>Small Bags</th>\n",
       "      <th>Large Bags</th>\n",
       "      <th>XLarge Bags</th>\n",
       "      <th>type</th>\n",
       "      <th>year</th>\n",
       "    </tr>\n",
       "  </thead>\n",
       "  <tbody>\n",
       "    <tr>\n",
       "      <th>0</th>\n",
       "      <td>-0.117824</td>\n",
       "      <td>-0.075324</td>\n",
       "      <td>-0.657421</td>\n",
       "      <td>0.351430</td>\n",
       "      <td>-0.222566</td>\n",
       "      <td>-0.537507</td>\n",
       "      <td>-0.347421</td>\n",
       "      <td>-0.781153</td>\n",
       "      <td>-0.677919</td>\n",
       "      <td>-1.019047</td>\n",
       "      <td>-1.210618</td>\n",
       "    </tr>\n",
       "    <tr>\n",
       "      <th>1</th>\n",
       "      <td>-0.064330</td>\n",
       "      <td>-0.147497</td>\n",
       "      <td>-0.777179</td>\n",
       "      <td>0.269513</td>\n",
       "      <td>-0.175223</td>\n",
       "      <td>-0.498128</td>\n",
       "      <td>-0.311322</td>\n",
       "      <td>-0.771198</td>\n",
       "      <td>-0.677919</td>\n",
       "      <td>-1.019047</td>\n",
       "      <td>-1.210618</td>\n",
       "    </tr>\n",
       "    <tr>\n",
       "      <th>2</th>\n",
       "      <td>-1.298865</td>\n",
       "      <td>0.205556</td>\n",
       "      <td>-0.731776</td>\n",
       "      <td>0.649333</td>\n",
       "      <td>0.023923</td>\n",
       "      <td>-0.566369</td>\n",
       "      <td>-0.374453</td>\n",
       "      <td>-0.758523</td>\n",
       "      <td>-0.677919</td>\n",
       "      <td>-1.019047</td>\n",
       "      <td>-1.210618</td>\n",
       "    </tr>\n",
       "    <tr>\n",
       "      <th>3</th>\n",
       "      <td>-0.829026</td>\n",
       "      <td>0.019655</td>\n",
       "      <td>-0.632592</td>\n",
       "      <td>0.468799</td>\n",
       "      <td>-0.121164</td>\n",
       "      <td>-0.713068</td>\n",
       "      <td>-0.510991</td>\n",
       "      <td>-0.699123</td>\n",
       "      <td>-0.677919</td>\n",
       "      <td>-1.019047</td>\n",
       "      <td>-1.210618</td>\n",
       "    </tr>\n",
       "    <tr>\n",
       "      <th>4</th>\n",
       "      <td>-0.253635</td>\n",
       "      <td>-0.180674</td>\n",
       "      <td>-0.684504</td>\n",
       "      <td>0.262126</td>\n",
       "      <td>-0.110491</td>\n",
       "      <td>-0.686312</td>\n",
       "      <td>-0.490534</td>\n",
       "      <td>-0.607027</td>\n",
       "      <td>-0.677919</td>\n",
       "      <td>-1.019047</td>\n",
       "      <td>-1.210618</td>\n",
       "    </tr>\n",
       "    <tr>\n",
       "      <th>...</th>\n",
       "      <td>...</td>\n",
       "      <td>...</td>\n",
       "      <td>...</td>\n",
       "      <td>...</td>\n",
       "      <td>...</td>\n",
       "      <td>...</td>\n",
       "      <td>...</td>\n",
       "      <td>...</td>\n",
       "      <td>...</td>\n",
       "      <td>...</td>\n",
       "      <td>...</td>\n",
       "    </tr>\n",
       "    <tr>\n",
       "      <th>17646</th>\n",
       "      <td>0.639410</td>\n",
       "      <td>-0.678214</td>\n",
       "      <td>-0.462066</td>\n",
       "      <td>-0.926028</td>\n",
       "      <td>-1.228986</td>\n",
       "      <td>-0.340422</td>\n",
       "      <td>-0.175753</td>\n",
       "      <td>-0.412401</td>\n",
       "      <td>-0.677919</td>\n",
       "      <td>0.981309</td>\n",
       "      <td>1.978735</td>\n",
       "    </tr>\n",
       "    <tr>\n",
       "      <th>17647</th>\n",
       "      <td>0.826487</td>\n",
       "      <td>-0.771326</td>\n",
       "      <td>-0.618019</td>\n",
       "      <td>-0.670600</td>\n",
       "      <td>-1.228986</td>\n",
       "      <td>-0.509513</td>\n",
       "      <td>-0.331971</td>\n",
       "      <td>-0.484991</td>\n",
       "      <td>-0.677919</td>\n",
       "      <td>0.981309</td>\n",
       "      <td>1.978735</td>\n",
       "    </tr>\n",
       "    <tr>\n",
       "      <th>17648</th>\n",
       "      <td>1.184324</td>\n",
       "      <td>-0.775274</td>\n",
       "      <td>-0.617966</td>\n",
       "      <td>-0.778893</td>\n",
       "      <td>0.445710</td>\n",
       "      <td>-0.503366</td>\n",
       "      <td>-0.313756</td>\n",
       "      <td>-0.950743</td>\n",
       "      <td>-0.677919</td>\n",
       "      <td>0.981309</td>\n",
       "      <td>1.978735</td>\n",
       "    </tr>\n",
       "    <tr>\n",
       "      <th>17649</th>\n",
       "      <td>1.313296</td>\n",
       "      <td>-0.701797</td>\n",
       "      <td>-0.547011</td>\n",
       "      <td>-0.716371</td>\n",
       "      <td>0.445399</td>\n",
       "      <td>-0.434176</td>\n",
       "      <td>-0.250408</td>\n",
       "      <td>-0.916068</td>\n",
       "      <td>-0.677919</td>\n",
       "      <td>0.981309</td>\n",
       "      <td>1.978735</td>\n",
       "    </tr>\n",
       "    <tr>\n",
       "      <th>17650</th>\n",
       "      <td>0.615619</td>\n",
       "      <td>-0.667381</td>\n",
       "      <td>-0.359671</td>\n",
       "      <td>-0.791650</td>\n",
       "      <td>0.157768</td>\n",
       "      <td>-0.393236</td>\n",
       "      <td>-0.211755</td>\n",
       "      <td>-1.048116</td>\n",
       "      <td>-0.677919</td>\n",
       "      <td>0.981309</td>\n",
       "      <td>1.978735</td>\n",
       "    </tr>\n",
       "  </tbody>\n",
       "</table>\n",
       "<p>17651 rows × 11 columns</p>\n",
       "</div>"
      ],
      "text/plain": [
       "       AveragePrice  Total Volume      4046      4225      4770  Total Bags  \\\n",
       "0         -0.117824     -0.075324 -0.657421  0.351430 -0.222566   -0.537507   \n",
       "1         -0.064330     -0.147497 -0.777179  0.269513 -0.175223   -0.498128   \n",
       "2         -1.298865      0.205556 -0.731776  0.649333  0.023923   -0.566369   \n",
       "3         -0.829026      0.019655 -0.632592  0.468799 -0.121164   -0.713068   \n",
       "4         -0.253635     -0.180674 -0.684504  0.262126 -0.110491   -0.686312   \n",
       "...             ...           ...       ...       ...       ...         ...   \n",
       "17646      0.639410     -0.678214 -0.462066 -0.926028 -1.228986   -0.340422   \n",
       "17647      0.826487     -0.771326 -0.618019 -0.670600 -1.228986   -0.509513   \n",
       "17648      1.184324     -0.775274 -0.617966 -0.778893  0.445710   -0.503366   \n",
       "17649      1.313296     -0.701797 -0.547011 -0.716371  0.445399   -0.434176   \n",
       "17650      0.615619     -0.667381 -0.359671 -0.791650  0.157768   -0.393236   \n",
       "\n",
       "       Small Bags  Large Bags  XLarge Bags      type      year  \n",
       "0       -0.347421   -0.781153    -0.677919 -1.019047 -1.210618  \n",
       "1       -0.311322   -0.771198    -0.677919 -1.019047 -1.210618  \n",
       "2       -0.374453   -0.758523    -0.677919 -1.019047 -1.210618  \n",
       "3       -0.510991   -0.699123    -0.677919 -1.019047 -1.210618  \n",
       "4       -0.490534   -0.607027    -0.677919 -1.019047 -1.210618  \n",
       "...           ...         ...          ...       ...       ...  \n",
       "17646   -0.175753   -0.412401    -0.677919  0.981309  1.978735  \n",
       "17647   -0.331971   -0.484991    -0.677919  0.981309  1.978735  \n",
       "17648   -0.313756   -0.950743    -0.677919  0.981309  1.978735  \n",
       "17649   -0.250408   -0.916068    -0.677919  0.981309  1.978735  \n",
       "17650   -0.211755   -1.048116    -0.677919  0.981309  1.978735  \n",
       "\n",
       "[17651 rows x 11 columns]"
      ]
     },
     "execution_count": 52,
     "metadata": {},
     "output_type": "execute_result"
    }
   ],
   "source": [
    "from sklearn.preprocessing import StandardScaler\n",
    "sc=StandardScaler()\n",
    "xc=sc.fit_transform(xt)\n",
    "xc=pd.DataFrame(xc)\n",
    "xc.columns=xt.columns\n",
    "xc"
   ]
  },
  {
   "cell_type": "markdown",
   "id": "11664d63",
   "metadata": {},
   "source": [
    "here we have appliedstandard scaler for scaling the data ."
   ]
  },
  {
   "cell_type": "code",
   "execution_count": 108,
   "id": "ecec0338",
   "metadata": {},
   "outputs": [],
   "source": [
    "import statsmodels.api as sm\n",
    "from scipy import stats\n",
    "from statsmodels.stats.outliers_influence import variance_inflation_factor\n"
   ]
  },
  {
   "cell_type": "code",
   "execution_count": 109,
   "id": "79bbd0aa",
   "metadata": {},
   "outputs": [],
   "source": [
    "def calc_vif(xc):\n",
    "    vif = pd.DataFrame()\n",
    "    vif[\"variables\"] = xc.columns\n",
    "    vif[\"V_I_F\"] = [variance_inflation_factor(xc.values,i) for i in range(xc.shape[1])]\n",
    "    return(vif)"
   ]
  },
  {
   "cell_type": "code",
   "execution_count": 110,
   "id": "ec805b9a",
   "metadata": {},
   "outputs": [
    {
     "data": {
      "text/html": [
       "<div>\n",
       "<style scoped>\n",
       "    .dataframe tbody tr th:only-of-type {\n",
       "        vertical-align: middle;\n",
       "    }\n",
       "\n",
       "    .dataframe tbody tr th {\n",
       "        vertical-align: top;\n",
       "    }\n",
       "\n",
       "    .dataframe thead th {\n",
       "        text-align: right;\n",
       "    }\n",
       "</style>\n",
       "<table border=\"1\" class=\"dataframe\">\n",
       "  <thead>\n",
       "    <tr style=\"text-align: right;\">\n",
       "      <th></th>\n",
       "      <th>variables</th>\n",
       "      <th>V_I_F</th>\n",
       "    </tr>\n",
       "  </thead>\n",
       "  <tbody>\n",
       "    <tr>\n",
       "      <th>0</th>\n",
       "      <td>AveragePrice</td>\n",
       "      <td>2.127152</td>\n",
       "    </tr>\n",
       "    <tr>\n",
       "      <th>1</th>\n",
       "      <td>Total Volume</td>\n",
       "      <td>54.863391</td>\n",
       "    </tr>\n",
       "    <tr>\n",
       "      <th>2</th>\n",
       "      <td>4046</td>\n",
       "      <td>6.905481</td>\n",
       "    </tr>\n",
       "    <tr>\n",
       "      <th>3</th>\n",
       "      <td>4225</td>\n",
       "      <td>12.362805</td>\n",
       "    </tr>\n",
       "    <tr>\n",
       "      <th>4</th>\n",
       "      <td>4770</td>\n",
       "      <td>3.941440</td>\n",
       "    </tr>\n",
       "    <tr>\n",
       "      <th>5</th>\n",
       "      <td>Total Bags</td>\n",
       "      <td>35.756710</td>\n",
       "    </tr>\n",
       "    <tr>\n",
       "      <th>6</th>\n",
       "      <td>Small Bags</td>\n",
       "      <td>17.333635</td>\n",
       "    </tr>\n",
       "    <tr>\n",
       "      <th>7</th>\n",
       "      <td>Large Bags</td>\n",
       "      <td>3.472647</td>\n",
       "    </tr>\n",
       "    <tr>\n",
       "      <th>8</th>\n",
       "      <td>XLarge Bags</td>\n",
       "      <td>2.039068</td>\n",
       "    </tr>\n",
       "    <tr>\n",
       "      <th>9</th>\n",
       "      <td>type</td>\n",
       "      <td>4.115674</td>\n",
       "    </tr>\n",
       "    <tr>\n",
       "      <th>10</th>\n",
       "      <td>year</td>\n",
       "      <td>1.407651</td>\n",
       "    </tr>\n",
       "  </tbody>\n",
       "</table>\n",
       "</div>"
      ],
      "text/plain": [
       "       variables      V_I_F\n",
       "0   AveragePrice   2.127152\n",
       "1   Total Volume  54.863391\n",
       "2           4046   6.905481\n",
       "3           4225  12.362805\n",
       "4           4770   3.941440\n",
       "5     Total Bags  35.756710\n",
       "6     Small Bags  17.333635\n",
       "7     Large Bags   3.472647\n",
       "8    XLarge Bags   2.039068\n",
       "9           type   4.115674\n",
       "10          year   1.407651"
      ]
     },
     "execution_count": 110,
     "metadata": {},
     "output_type": "execute_result"
    }
   ],
   "source": [
    "calc_vif(xc)"
   ]
  },
  {
   "cell_type": "markdown",
   "id": "b63cb43b",
   "metadata": {},
   "source": [
    "here we are checking multicolinearity and for having the most vif value we have decided to drop hr column."
   ]
  },
  {
   "cell_type": "code",
   "execution_count": 113,
   "id": "ac271e61",
   "metadata": {},
   "outputs": [],
   "source": [
    "xc.drop([\"Total Volume\",\"Total Bags\"],axis=1,inplace =True)"
   ]
  },
  {
   "cell_type": "markdown",
   "id": "dc8ea0a4",
   "metadata": {},
   "source": [
    "\"Total Volume\",\"Total Bags\" , these two columns have high vif value , it means there will be muti co liniarity present in these two columns so we are removing these two columns ."
   ]
  },
  {
   "cell_type": "code",
   "execution_count": 140,
   "id": "43ba4756",
   "metadata": {},
   "outputs": [
    {
     "data": {
      "text/html": [
       "<div>\n",
       "<style scoped>\n",
       "    .dataframe tbody tr th:only-of-type {\n",
       "        vertical-align: middle;\n",
       "    }\n",
       "\n",
       "    .dataframe tbody tr th {\n",
       "        vertical-align: top;\n",
       "    }\n",
       "\n",
       "    .dataframe thead th {\n",
       "        text-align: right;\n",
       "    }\n",
       "</style>\n",
       "<table border=\"1\" class=\"dataframe\">\n",
       "  <thead>\n",
       "    <tr style=\"text-align: right;\">\n",
       "      <th></th>\n",
       "      <th>variables</th>\n",
       "      <th>V_I_F</th>\n",
       "    </tr>\n",
       "  </thead>\n",
       "  <tbody>\n",
       "    <tr>\n",
       "      <th>0</th>\n",
       "      <td>AveragePrice</td>\n",
       "      <td>1.913817</td>\n",
       "    </tr>\n",
       "    <tr>\n",
       "      <th>1</th>\n",
       "      <td>4046</td>\n",
       "      <td>3.602702</td>\n",
       "    </tr>\n",
       "    <tr>\n",
       "      <th>2</th>\n",
       "      <td>4225</td>\n",
       "      <td>4.314199</td>\n",
       "    </tr>\n",
       "    <tr>\n",
       "      <th>3</th>\n",
       "      <td>4770</td>\n",
       "      <td>3.930990</td>\n",
       "    </tr>\n",
       "    <tr>\n",
       "      <th>4</th>\n",
       "      <td>Small Bags</td>\n",
       "      <td>4.119981</td>\n",
       "    </tr>\n",
       "    <tr>\n",
       "      <th>5</th>\n",
       "      <td>Large Bags</td>\n",
       "      <td>2.038690</td>\n",
       "    </tr>\n",
       "    <tr>\n",
       "      <th>6</th>\n",
       "      <td>XLarge Bags</td>\n",
       "      <td>2.027128</td>\n",
       "    </tr>\n",
       "    <tr>\n",
       "      <th>7</th>\n",
       "      <td>type</td>\n",
       "      <td>3.961605</td>\n",
       "    </tr>\n",
       "    <tr>\n",
       "      <th>8</th>\n",
       "      <td>year</td>\n",
       "      <td>1.355953</td>\n",
       "    </tr>\n",
       "  </tbody>\n",
       "</table>\n",
       "</div>"
      ],
      "text/plain": [
       "      variables     V_I_F\n",
       "0  AveragePrice  1.913817\n",
       "1          4046  3.602702\n",
       "2          4225  4.314199\n",
       "3          4770  3.930990\n",
       "4    Small Bags  4.119981\n",
       "5    Large Bags  2.038690\n",
       "6   XLarge Bags  2.027128\n",
       "7          type  3.961605\n",
       "8          year  1.355953"
      ]
     },
     "execution_count": 140,
     "metadata": {},
     "output_type": "execute_result"
    }
   ],
   "source": [
    "calc_vif(xc)"
   ]
  },
  {
   "cell_type": "markdown",
   "id": "6f08b62b",
   "metadata": {},
   "source": [
    "now we can see there is not much colinearity present in the data set ."
   ]
  },
  {
   "cell_type": "code",
   "execution_count": 55,
   "id": "a7e62877",
   "metadata": {},
   "outputs": [],
   "source": [
    "import sklearn\n",
    "from sklearn.tree import DecisionTreeClassifier\n",
    "from sklearn.linear_model import LinearRegression\n",
    "from sklearn.naive_bayes import MultinomialNB\n",
    "from sklearn.neighbors import KNeighborsClassifier\n",
    "from sklearn.model_selection import cross_val_score\n",
    "from sklearn.ensemble import RandomForestClassifier\n",
    "from sklearn.metrics import accuracy_score , confusion_matrix, classification_report,r2_score,mean_squared_error , mean_absolute_error\n",
    "from sklearn.model_selection import train_test_split"
   ]
  },
  {
   "cell_type": "code",
   "execution_count": 56,
   "id": "2c334e15",
   "metadata": {},
   "outputs": [
    {
     "name": "stdout",
     "output_type": "stream",
     "text": [
      "best accuracy score is 0.8178986122911357 on random state 97\n"
     ]
    }
   ],
   "source": [
    "maxacc=0\n",
    "maxrs=0\n",
    "for i in range(0,200):\n",
    "    x_train,x_test,y_train,y_test=train_test_split(xc,y,test_size=0.2,random_state=i)\n",
    "    dtc=DecisionTreeClassifier()\n",
    "    dtc.fit(x_train,y_train)\n",
    "    pred=dtc.predict(x_test)\n",
    "    acc=accuracy_score(y_test,pred)\n",
    "    if acc > maxacc:\n",
    "        maxacc=acc\n",
    "        maxrs=i\n",
    "print(\"best accuracy score is\",maxacc,\"on random state\",maxrs)"
   ]
  },
  {
   "cell_type": "code",
   "execution_count": 58,
   "id": "9bbd82d1",
   "metadata": {},
   "outputs": [
    {
     "data": {
      "text/plain": [
       "0.5580460719022049"
      ]
     },
     "execution_count": 58,
     "metadata": {},
     "output_type": "execute_result"
    }
   ],
   "source": [
    "score=cross_val_score(dtc,xc,y,cv=5)\n",
    "score.mean()"
   ]
  },
  {
   "cell_type": "code",
   "execution_count": 59,
   "id": "e9f62c42",
   "metadata": {},
   "outputs": [
    {
     "name": "stdout",
     "output_type": "stream",
     "text": [
      "best accuracy score is 0.9679977343528745 on random state 123\n"
     ]
    }
   ],
   "source": [
    "maxacc=0\n",
    "maxrs=0\n",
    "for i in range(0,200):\n",
    "    x_train,x_test,y_train,y_test=train_test_split(xc,y,test_size=0.2,random_state=i)\n",
    "    dtce=DecisionTreeClassifier(criterion = \"entropy\")\n",
    "    dtce.fit(x_train,y_train)\n",
    "    preddtce=dtc.predict(x_test)\n",
    "    acc=accuracy_score(y_test,preddtce)\n",
    "    if acc > maxacc:\n",
    "        maxacc=acc\n",
    "        maxrs=i\n",
    "print(\"best accuracy score is\",maxacc,\"on random state\",maxrs)"
   ]
  },
  {
   "cell_type": "code",
   "execution_count": 60,
   "id": "8243c5fa",
   "metadata": {},
   "outputs": [
    {
     "data": {
      "text/plain": [
       "0.555834177736166"
      ]
     },
     "execution_count": 60,
     "metadata": {},
     "output_type": "execute_result"
    }
   ],
   "source": [
    "score=cross_val_score(dtce,xc,y,cv=5)\n",
    "score.mean()"
   ]
  },
  {
   "cell_type": "code",
   "execution_count": 61,
   "id": "23a96a3f",
   "metadata": {},
   "outputs": [
    {
     "name": "stdout",
     "output_type": "stream",
     "text": [
      "best accuracy score is 0.9212687623902577 on random state 168\n"
     ]
    }
   ],
   "source": [
    "maxacc=0\n",
    "maxrs=0\n",
    "for i in range(0,200):\n",
    "    x_train,x_test,y_train,y_test=train_test_split(xc,y,test_size=0.2,random_state=i)\n",
    "    rfc=RandomForestClassifier(n_estimators=200)\n",
    "    rfc.fit(x_train,y_train)\n",
    "    predrfc=rfc.predict(x_test)\n",
    "    acc=accuracy_score(y_test,predrfc)\n",
    "    if acc > maxacc:\n",
    "        maxacc=acc\n",
    "        maxrs=i\n",
    "print(\"best accuracy score is\",maxacc,\"on random state\",maxrs)"
   ]
  },
  {
   "cell_type": "code",
   "execution_count": 62,
   "id": "0e675619",
   "metadata": {},
   "outputs": [
    {
     "data": {
      "text/plain": [
       "0.6826841179259702"
      ]
     },
     "execution_count": 62,
     "metadata": {},
     "output_type": "execute_result"
    }
   ],
   "source": [
    "score=cross_val_score(rfc,xc,y,cv=5)\n",
    "score.mean()"
   ]
  },
  {
   "cell_type": "code",
   "execution_count": 63,
   "id": "e48559b3",
   "metadata": {},
   "outputs": [
    {
     "name": "stdout",
     "output_type": "stream",
     "text": [
      "best accuracy score is 0.0928915321438686 on random state 43\n"
     ]
    }
   ],
   "source": [
    "maxacc=0\n",
    "maxrs=0\n",
    "from sklearn.ensemble import AdaBoostClassifier\n",
    "for i in range(0,200):\n",
    "    x_train,x_test,y_train,y_test=train_test_split(xc,y,test_size=0.2,random_state=i)\n",
    "    adc=AdaBoostClassifier()\n",
    "    adc.fit(x_train,y_train)\n",
    "    predadc=adc.predict(x_test)\n",
    "    acc=accuracy_score(y_test,predadc)\n",
    "    if acc > maxacc:\n",
    "        maxacc=acc\n",
    "        maxrs=i\n",
    "print(\"best accuracy score is\",maxacc,\"on random state\",maxrs)"
   ]
  },
  {
   "cell_type": "code",
   "execution_count": null,
   "id": "ca172cb0",
   "metadata": {},
   "outputs": [],
   "source": [
    "score=cross_val_score(adc,xc,y,cv=5)\n",
    "score.mean()"
   ]
  },
  {
   "cell_type": "code",
   "execution_count": 67,
   "id": "8819440f",
   "metadata": {},
   "outputs": [
    {
     "name": "stdout",
     "output_type": "stream",
     "text": [
      "best accuracy score is 0 on random state 0\n"
     ]
    }
   ],
   "source": [
    "maxacc=0\n",
    "maxrs=0\n",
    "from sklearn.svm import SVC\n",
    "\n",
    "for i in range(0,200):\n",
    "    x_train,x_test,y_train,y_test=train_test_split(xc,y,test_size=0.2,random_state=i)\n",
    "    def svmkernel(ker):\n",
    "        svc=SVC()\n",
    "        svc.fit(x_train,y_train)\n",
    "        predsvc=svc.predict(x_test)\n",
    "        acc=accuracy_score(y_test,predsvc)\n",
    "        if acc > maxacc:\n",
    "            maxacc=acc\n",
    "            maxrs=i\n",
    "print(\"best accuracy score is\",maxacc,\"on random state\",maxrs)"
   ]
  },
  {
   "cell_type": "code",
   "execution_count": 70,
   "id": "a6d27d8c",
   "metadata": {},
   "outputs": [],
   "source": [
    "from sklearn.model_selection import GridSearchCV\n",
    "parameters = {\"max_features\":[\"auto\",\"sqrt\",\"log2\"],\"max_depth\":[0,1,2,3,4,5,6,7,8],\"criterion\":[\"gini\",\"entropy\"]}\n",
    "gscv=GridSearchCV(RandomForestClassifier(),parameters,cv=5,scoring=\"accuracy\")"
   ]
  },
  {
   "cell_type": "code",
   "execution_count": 73,
   "id": "9048cc4b",
   "metadata": {},
   "outputs": [
    {
     "data": {
      "text/plain": [
       "GridSearchCV(cv=5, estimator=RandomForestClassifier(),\n",
       "             param_grid={'criterion': ['gini', 'entropy'],\n",
       "                         'max_depth': [0, 1, 2, 3, 4, 5, 6, 7, 8],\n",
       "                         'max_features': ['auto', 'sqrt', 'log2']},\n",
       "             scoring='accuracy')"
      ]
     },
     "execution_count": 73,
     "metadata": {},
     "output_type": "execute_result"
    }
   ],
   "source": [
    "gscv.fit(xc,y)"
   ]
  },
  {
   "cell_type": "code",
   "execution_count": 74,
   "id": "bd1ba2f2",
   "metadata": {},
   "outputs": [
    {
     "data": {
      "text/plain": [
       "{'criterion': 'entropy', 'max_depth': 8, 'max_features': 'sqrt'}"
      ]
     },
     "execution_count": 74,
     "metadata": {},
     "output_type": "execute_result"
    }
   ],
   "source": [
    "gscv.best_params_"
   ]
  },
  {
   "cell_type": "code",
   "execution_count": 75,
   "id": "b01b1736",
   "metadata": {},
   "outputs": [
    {
     "data": {
      "text/plain": [
       "RandomForestClassifier(criterion='entropy', max_depth=8, max_features='sqrt')"
      ]
     },
     "execution_count": 75,
     "metadata": {},
     "output_type": "execute_result"
    }
   ],
   "source": [
    "gscv.best_estimator_"
   ]
  },
  {
   "cell_type": "code",
   "execution_count": 76,
   "id": "90775606",
   "metadata": {},
   "outputs": [],
   "source": [
    "gscvpred=gscv.best_estimator_.predict(x_test)"
   ]
  },
  {
   "cell_type": "code",
   "execution_count": 77,
   "id": "6f486db4",
   "metadata": {},
   "outputs": [
    {
     "name": "stdout",
     "output_type": "stream",
     "text": [
      "0.8385726423109601\n"
     ]
    }
   ],
   "source": [
    "print(accuracy_score(y_test,gscvpred))"
   ]
  },
  {
   "cell_type": "markdown",
   "id": "09685fbc",
   "metadata": {},
   "source": [
    "here the output column is region and we have used various classification models , random forest classifier model has given the bes result here so we have used gridsearch cv for this model and the score is 84% ."
   ]
  },
  {
   "cell_type": "code",
   "execution_count": 114,
   "id": "8ba16664",
   "metadata": {},
   "outputs": [
    {
     "data": {
      "text/html": [
       "<div>\n",
       "<style scoped>\n",
       "    .dataframe tbody tr th:only-of-type {\n",
       "        vertical-align: middle;\n",
       "    }\n",
       "\n",
       "    .dataframe tbody tr th {\n",
       "        vertical-align: top;\n",
       "    }\n",
       "\n",
       "    .dataframe thead th {\n",
       "        text-align: right;\n",
       "    }\n",
       "</style>\n",
       "<table border=\"1\" class=\"dataframe\">\n",
       "  <thead>\n",
       "    <tr style=\"text-align: right;\">\n",
       "      <th></th>\n",
       "      <th>AveragePrice</th>\n",
       "      <th>4046</th>\n",
       "      <th>4225</th>\n",
       "      <th>4770</th>\n",
       "      <th>Small Bags</th>\n",
       "      <th>Large Bags</th>\n",
       "      <th>XLarge Bags</th>\n",
       "      <th>type</th>\n",
       "      <th>year</th>\n",
       "    </tr>\n",
       "  </thead>\n",
       "  <tbody>\n",
       "    <tr>\n",
       "      <th>0</th>\n",
       "      <td>-0.117824</td>\n",
       "      <td>-0.657421</td>\n",
       "      <td>0.351430</td>\n",
       "      <td>-0.222566</td>\n",
       "      <td>-0.347421</td>\n",
       "      <td>-0.781153</td>\n",
       "      <td>-0.677919</td>\n",
       "      <td>-1.019047</td>\n",
       "      <td>-1.210618</td>\n",
       "    </tr>\n",
       "    <tr>\n",
       "      <th>1</th>\n",
       "      <td>-0.064330</td>\n",
       "      <td>-0.777179</td>\n",
       "      <td>0.269513</td>\n",
       "      <td>-0.175223</td>\n",
       "      <td>-0.311322</td>\n",
       "      <td>-0.771198</td>\n",
       "      <td>-0.677919</td>\n",
       "      <td>-1.019047</td>\n",
       "      <td>-1.210618</td>\n",
       "    </tr>\n",
       "    <tr>\n",
       "      <th>2</th>\n",
       "      <td>-1.298865</td>\n",
       "      <td>-0.731776</td>\n",
       "      <td>0.649333</td>\n",
       "      <td>0.023923</td>\n",
       "      <td>-0.374453</td>\n",
       "      <td>-0.758523</td>\n",
       "      <td>-0.677919</td>\n",
       "      <td>-1.019047</td>\n",
       "      <td>-1.210618</td>\n",
       "    </tr>\n",
       "    <tr>\n",
       "      <th>3</th>\n",
       "      <td>-0.829026</td>\n",
       "      <td>-0.632592</td>\n",
       "      <td>0.468799</td>\n",
       "      <td>-0.121164</td>\n",
       "      <td>-0.510991</td>\n",
       "      <td>-0.699123</td>\n",
       "      <td>-0.677919</td>\n",
       "      <td>-1.019047</td>\n",
       "      <td>-1.210618</td>\n",
       "    </tr>\n",
       "    <tr>\n",
       "      <th>4</th>\n",
       "      <td>-0.253635</td>\n",
       "      <td>-0.684504</td>\n",
       "      <td>0.262126</td>\n",
       "      <td>-0.110491</td>\n",
       "      <td>-0.490534</td>\n",
       "      <td>-0.607027</td>\n",
       "      <td>-0.677919</td>\n",
       "      <td>-1.019047</td>\n",
       "      <td>-1.210618</td>\n",
       "    </tr>\n",
       "    <tr>\n",
       "      <th>...</th>\n",
       "      <td>...</td>\n",
       "      <td>...</td>\n",
       "      <td>...</td>\n",
       "      <td>...</td>\n",
       "      <td>...</td>\n",
       "      <td>...</td>\n",
       "      <td>...</td>\n",
       "      <td>...</td>\n",
       "      <td>...</td>\n",
       "    </tr>\n",
       "    <tr>\n",
       "      <th>17646</th>\n",
       "      <td>0.639410</td>\n",
       "      <td>-0.462066</td>\n",
       "      <td>-0.926028</td>\n",
       "      <td>-1.228986</td>\n",
       "      <td>-0.175753</td>\n",
       "      <td>-0.412401</td>\n",
       "      <td>-0.677919</td>\n",
       "      <td>0.981309</td>\n",
       "      <td>1.978735</td>\n",
       "    </tr>\n",
       "    <tr>\n",
       "      <th>17647</th>\n",
       "      <td>0.826487</td>\n",
       "      <td>-0.618019</td>\n",
       "      <td>-0.670600</td>\n",
       "      <td>-1.228986</td>\n",
       "      <td>-0.331971</td>\n",
       "      <td>-0.484991</td>\n",
       "      <td>-0.677919</td>\n",
       "      <td>0.981309</td>\n",
       "      <td>1.978735</td>\n",
       "    </tr>\n",
       "    <tr>\n",
       "      <th>17648</th>\n",
       "      <td>1.184324</td>\n",
       "      <td>-0.617966</td>\n",
       "      <td>-0.778893</td>\n",
       "      <td>0.445710</td>\n",
       "      <td>-0.313756</td>\n",
       "      <td>-0.950743</td>\n",
       "      <td>-0.677919</td>\n",
       "      <td>0.981309</td>\n",
       "      <td>1.978735</td>\n",
       "    </tr>\n",
       "    <tr>\n",
       "      <th>17649</th>\n",
       "      <td>1.313296</td>\n",
       "      <td>-0.547011</td>\n",
       "      <td>-0.716371</td>\n",
       "      <td>0.445399</td>\n",
       "      <td>-0.250408</td>\n",
       "      <td>-0.916068</td>\n",
       "      <td>-0.677919</td>\n",
       "      <td>0.981309</td>\n",
       "      <td>1.978735</td>\n",
       "    </tr>\n",
       "    <tr>\n",
       "      <th>17650</th>\n",
       "      <td>0.615619</td>\n",
       "      <td>-0.359671</td>\n",
       "      <td>-0.791650</td>\n",
       "      <td>0.157768</td>\n",
       "      <td>-0.211755</td>\n",
       "      <td>-1.048116</td>\n",
       "      <td>-0.677919</td>\n",
       "      <td>0.981309</td>\n",
       "      <td>1.978735</td>\n",
       "    </tr>\n",
       "  </tbody>\n",
       "</table>\n",
       "<p>17651 rows × 9 columns</p>\n",
       "</div>"
      ],
      "text/plain": [
       "       AveragePrice      4046      4225      4770  Small Bags  Large Bags  \\\n",
       "0         -0.117824 -0.657421  0.351430 -0.222566   -0.347421   -0.781153   \n",
       "1         -0.064330 -0.777179  0.269513 -0.175223   -0.311322   -0.771198   \n",
       "2         -1.298865 -0.731776  0.649333  0.023923   -0.374453   -0.758523   \n",
       "3         -0.829026 -0.632592  0.468799 -0.121164   -0.510991   -0.699123   \n",
       "4         -0.253635 -0.684504  0.262126 -0.110491   -0.490534   -0.607027   \n",
       "...             ...       ...       ...       ...         ...         ...   \n",
       "17646      0.639410 -0.462066 -0.926028 -1.228986   -0.175753   -0.412401   \n",
       "17647      0.826487 -0.618019 -0.670600 -1.228986   -0.331971   -0.484991   \n",
       "17648      1.184324 -0.617966 -0.778893  0.445710   -0.313756   -0.950743   \n",
       "17649      1.313296 -0.547011 -0.716371  0.445399   -0.250408   -0.916068   \n",
       "17650      0.615619 -0.359671 -0.791650  0.157768   -0.211755   -1.048116   \n",
       "\n",
       "       XLarge Bags      type      year  \n",
       "0        -0.677919 -1.019047 -1.210618  \n",
       "1        -0.677919 -1.019047 -1.210618  \n",
       "2        -0.677919 -1.019047 -1.210618  \n",
       "3        -0.677919 -1.019047 -1.210618  \n",
       "4        -0.677919 -1.019047 -1.210618  \n",
       "...            ...       ...       ...  \n",
       "17646    -0.677919  0.981309  1.978735  \n",
       "17647    -0.677919  0.981309  1.978735  \n",
       "17648    -0.677919  0.981309  1.978735  \n",
       "17649    -0.677919  0.981309  1.978735  \n",
       "17650    -0.677919  0.981309  1.978735  \n",
       "\n",
       "[17651 rows x 9 columns]"
      ]
     },
     "execution_count": 114,
     "metadata": {},
     "output_type": "execute_result"
    }
   ],
   "source": [
    "xc"
   ]
  },
  {
   "cell_type": "code",
   "execution_count": 116,
   "id": "69b43c29",
   "metadata": {},
   "outputs": [],
   "source": [
    "xp=xc.iloc[:,1:]\n",
    "yp=xc.iloc[:,0]\n"
   ]
  },
  {
   "cell_type": "markdown",
   "id": "8d4557b0",
   "metadata": {},
   "source": [
    "here we have splitted the data set for predicting the avarage price of avocado , it is regression model problem so we are using various regression models to predit the avarage price"
   ]
  },
  {
   "cell_type": "code",
   "execution_count": 117,
   "id": "be768856",
   "metadata": {},
   "outputs": [
    {
     "name": "stdout",
     "output_type": "stream",
     "text": [
      "(17651, 8)\n",
      "(17651,)\n"
     ]
    }
   ],
   "source": [
    "print(xp.shape)\n",
    "print(yp.shape)"
   ]
  },
  {
   "cell_type": "code",
   "execution_count": 86,
   "id": "c84b0663",
   "metadata": {},
   "outputs": [],
   "source": [
    "from sklearn.tree import DecisionTreeRegressor\n",
    "from sklearn.neighbors import KNeighborsRegressor\n",
    "from sklearn.model_selection import cross_val_score\n",
    "from sklearn.ensemble import RandomForestRegressor\n",
    "from sklearn.metrics import accuracy_score , confusion_matrix, classification_report,r2_score,mean_squared_error , mean_absolute_error\n",
    "from sklearn.model_selection import train_test_split"
   ]
  },
  {
   "cell_type": "code",
   "execution_count": 118,
   "id": "0540d0d5",
   "metadata": {},
   "outputs": [
    {
     "name": "stdout",
     "output_type": "stream",
     "text": [
      "best accuracy score is 0.6937689352161769 on random state 6\n"
     ]
    }
   ],
   "source": [
    "maxacc=0\n",
    "maxrs=0\n",
    "for i in range(0,200):\n",
    "    x_train,x_test,y_train,y_test=train_test_split(xp,yp,test_size=0.2,random_state=i)\n",
    "    dtr=DecisionTreeRegressor()\n",
    "    dtr.fit(x_train,y_train)\n",
    "    pred=dtr.predict(x_test)\n",
    "    acc=r2_score(y_test,pred)\n",
    "    if acc > maxacc:\n",
    "        maxacc=acc\n",
    "        maxrs=i\n",
    "print(\"best accuracy score is\",maxacc,\"on random state\",maxrs)"
   ]
  },
  {
   "cell_type": "code",
   "execution_count": 119,
   "id": "a67178ce",
   "metadata": {},
   "outputs": [
    {
     "data": {
      "text/plain": [
       "-0.28773371338681775"
      ]
     },
     "execution_count": 119,
     "metadata": {},
     "output_type": "execute_result"
    }
   ],
   "source": [
    "score=cross_val_score(dtr,xp,yp,cv=5)\n",
    "score.mean()"
   ]
  },
  {
   "cell_type": "code",
   "execution_count": 121,
   "id": "35779a5b",
   "metadata": {},
   "outputs": [
    {
     "name": "stdout",
     "output_type": "stream",
     "text": [
      "best accuracy score is 0.5056483175552862 on random state 196\n"
     ]
    }
   ],
   "source": [
    "maxacc=0\n",
    "maxrs=0\n",
    "for i in range(0,200):\n",
    "    x_train,x_test,y_train,y_test=train_test_split(xp,yp,test_size=0.2,random_state=i)\n",
    "    lr=LinearRegression()\n",
    "    lr.fit(x_train,y_train)\n",
    "    predlr=lr.predict(x_test)\n",
    "    acc=r2_score(y_test,predlr)\n",
    "    if acc > maxacc:\n",
    "        maxacc=acc\n",
    "        maxrs=i\n",
    "print(\"best accuracy score is\",maxacc,\"on random state\",maxrs)"
   ]
  },
  {
   "cell_type": "code",
   "execution_count": 122,
   "id": "6751a51f",
   "metadata": {},
   "outputs": [
    {
     "data": {
      "text/plain": [
       "0.06929204945418099"
      ]
     },
     "execution_count": 122,
     "metadata": {},
     "output_type": "execute_result"
    }
   ],
   "source": [
    "score=cross_val_score(lr,xp,yp,cv=5)\n",
    "score.mean()"
   ]
  },
  {
   "cell_type": "code",
   "execution_count": 123,
   "id": "1d56e3a4",
   "metadata": {},
   "outputs": [
    {
     "name": "stdout",
     "output_type": "stream",
     "text": [
      "best accuracy score is 0.8257070889000406 on random state 121\n"
     ]
    }
   ],
   "source": [
    "maxacc=0\n",
    "maxrs=0\n",
    "for i in range(0,200):\n",
    "    x_train,x_test,y_train,y_test=train_test_split(xp,yp,test_size=0.2,random_state=i)\n",
    "    knr=KNeighborsRegressor()\n",
    "    knr.fit(x_train,y_train)\n",
    "    predknr=knr.predict(x_test)\n",
    "    acc=r2_score(y_test,predknr)\n",
    "    if acc > maxacc:\n",
    "        maxacc=acc\n",
    "        maxrs=i\n",
    "print(\"best accuracy score is\",maxacc,\"on random state\",maxrs)"
   ]
  },
  {
   "cell_type": "code",
   "execution_count": 124,
   "id": "e79cef4c",
   "metadata": {},
   "outputs": [
    {
     "data": {
      "text/plain": [
       "0.04931301650278534"
      ]
     },
     "execution_count": 124,
     "metadata": {},
     "output_type": "execute_result"
    }
   ],
   "source": [
    "score=cross_val_score(knr,xp,yp,cv=5)\n",
    "score.mean()"
   ]
  },
  {
   "cell_type": "code",
   "execution_count": 125,
   "id": "591769af",
   "metadata": {},
   "outputs": [],
   "source": [
    "from sklearn.linear_model import Lasso,Ridge\n",
    "from sklearn.model_selection import GridSearchCV\n",
    "rd = Ridge()\n",
    "ls= Lasso()\n",
    "parameters = {\"alpha\" : [0.0001,0.001,0.01,0.1]}"
   ]
  },
  {
   "cell_type": "code",
   "execution_count": 126,
   "id": "1234fbe0",
   "metadata": {},
   "outputs": [
    {
     "data": {
      "text/plain": [
       "GridSearchCV(cv=5, estimator=Lasso(),\n",
       "             param_grid={'alpha': [0.0001, 0.001, 0.01, 0.1]})"
      ]
     },
     "execution_count": 126,
     "metadata": {},
     "output_type": "execute_result"
    }
   ],
   "source": [
    "gscvr=GridSearchCV(Ridge(),parameters,cv=5)\n",
    "gscvl=GridSearchCV(Lasso(),parameters,cv=5)\n",
    "gscvr.fit(xp,yp)\n",
    "gscvl.fit(xp,yp)"
   ]
  },
  {
   "cell_type": "code",
   "execution_count": 127,
   "id": "358c5a89",
   "metadata": {},
   "outputs": [],
   "source": [
    "gscvrpred=gscvr.best_estimator_.predict(x_test)\n",
    "gscvlpred=gscvl.best_estimator_.predict(x_test)"
   ]
  },
  {
   "cell_type": "code",
   "execution_count": 128,
   "id": "879db31d",
   "metadata": {},
   "outputs": [
    {
     "name": "stdout",
     "output_type": "stream",
     "text": [
      "0.4783592119869161\n",
      "0.47831621739720165\n"
     ]
    }
   ],
   "source": [
    "print(r2_score(y_test,gscvrpred))\n",
    "print(r2_score(y_test,gscvlpred))"
   ]
  },
  {
   "cell_type": "code",
   "execution_count": 130,
   "id": "be3beaf3",
   "metadata": {},
   "outputs": [
    {
     "data": {
      "text/plain": [
       "0.0703100663258351"
      ]
     },
     "execution_count": 130,
     "metadata": {},
     "output_type": "execute_result"
    }
   ],
   "source": [
    "score=cross_val_score(gscvl,xp,yp,cv=5)\n",
    "score.mean()"
   ]
  },
  {
   "cell_type": "code",
   "execution_count": 132,
   "id": "5f111abf",
   "metadata": {},
   "outputs": [
    {
     "name": "stdout",
     "output_type": "stream",
     "text": [
      "best accuracy score is 0.9761935392289478 on random state 110\n"
     ]
    }
   ],
   "source": [
    "maxacc=0\n",
    "maxrs=0\n",
    "for i in range(0,200):\n",
    "    x_train,x_test,y_train,y_test=train_test_split(xp,yp,test_size=0.2,random_state=i)\n",
    "    rfr=RandomForestRegressor()\n",
    "    rfr.fit(x_train,y_train)\n",
    "    predrfr=rfr.predict(x_test)\n",
    "    acc=rfr.score(x_train,y_train)\n",
    "    if acc > maxacc:\n",
    "        maxacc=acc\n",
    "        maxrs=i\n",
    "print(\"best accuracy score is\",maxacc,\"on random state\",maxrs)"
   ]
  },
  {
   "cell_type": "code",
   "execution_count": 134,
   "id": "ab634202",
   "metadata": {},
   "outputs": [
    {
     "name": "stdout",
     "output_type": "stream",
     "text": [
      "0.9756529228644001\n",
      "0.8098856038632571\n"
     ]
    }
   ],
   "source": [
    "x_train,x_test,y_train,y_test=train_test_split(xp,yp,test_size=0.2,random_state=110)\n",
    "rfr=RandomForestRegressor()\n",
    "rfr.fit(x_train,y_train)\n",
    "predrfr=rfr.predict(x_test)\n",
    "acc=rfr.score(x_train,y_train)\n",
    "print(acc)\n",
    "print(r2_score(y_test,predrfr))"
   ]
  },
  {
   "cell_type": "code",
   "execution_count": 135,
   "id": "21e65849",
   "metadata": {},
   "outputs": [
    {
     "data": {
      "text/plain": [
       "0.27716762833602443"
      ]
     },
     "execution_count": 135,
     "metadata": {},
     "output_type": "execute_result"
    }
   ],
   "source": [
    "score=cross_val_score(rfr,xp,yp,cv=5)\n",
    "score.mean()"
   ]
  },
  {
   "cell_type": "code",
   "execution_count": 136,
   "id": "0c0a8dee",
   "metadata": {},
   "outputs": [
    {
     "data": {
      "text/plain": [
       "GridSearchCV(cv=5, estimator=RandomForestRegressor(),\n",
       "             param_grid={'max_features': ['auto', 'sqrt', 'log2']})"
      ]
     },
     "execution_count": 136,
     "metadata": {},
     "output_type": "execute_result"
    }
   ],
   "source": [
    "param = {\"max_features\":[\"auto\",\"sqrt\",\"log2\"]}\n",
    "gscvrfr=GridSearchCV(rfr,param,cv=5)\n",
    "gscvrfr.fit(xp,yp)"
   ]
  },
  {
   "cell_type": "code",
   "execution_count": 137,
   "id": "1dffb865",
   "metadata": {},
   "outputs": [],
   "source": [
    "predgscvrfr=gscvrfr.best_estimator_.predict(x_test)"
   ]
  },
  {
   "cell_type": "code",
   "execution_count": 138,
   "id": "3b852b04",
   "metadata": {},
   "outputs": [
    {
     "name": "stdout",
     "output_type": "stream",
     "text": [
      "0.9764908842768774\n"
     ]
    }
   ],
   "source": [
    "print(r2_score(y_test,predgscvrfr))"
   ]
  },
  {
   "cell_type": "markdown",
   "id": "d043b30a",
   "metadata": {},
   "source": [
    "from the above various models random forest regressor has givven the best result and we have used this model . we have applied grid search cv for best tuninig and to get the best estimator value for this model .\n",
    "r2 score is 98%"
   ]
  },
  {
   "cell_type": "code",
   "execution_count": 139,
   "id": "7b36d161",
   "metadata": {},
   "outputs": [
    {
     "data": {
      "text/plain": [
       "['avocado.pkl']"
      ]
     },
     "execution_count": 139,
     "metadata": {},
     "output_type": "execute_result"
    }
   ],
   "source": [
    "import joblib\n",
    "joblib.dump(gscvrfr.best_estimator_,\"avocado.pkl\")"
   ]
  },
  {
   "cell_type": "code",
   "execution_count": null,
   "id": "b4b1d5fc",
   "metadata": {},
   "outputs": [],
   "source": []
  }
 ],
 "metadata": {
  "kernelspec": {
   "display_name": "Python 3 (ipykernel)",
   "language": "python",
   "name": "python3"
  },
  "language_info": {
   "codemirror_mode": {
    "name": "ipython",
    "version": 3
   },
   "file_extension": ".py",
   "mimetype": "text/x-python",
   "name": "python",
   "nbconvert_exporter": "python",
   "pygments_lexer": "ipython3",
   "version": "3.9.7"
  }
 },
 "nbformat": 4,
 "nbformat_minor": 5
}
